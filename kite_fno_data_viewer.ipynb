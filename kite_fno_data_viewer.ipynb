{
  "cells": [
    {
      "cell_type": "markdown",
      "metadata": {
        "id": "view-in-github",
        "colab_type": "text"
      },
      "source": [
        "<a href=\"https://colab.research.google.com/github/azhar2205/paddle-ball-using-dqlearn/blob/master/kite_fno_data_viewer.ipynb\" target=\"_parent\"><img src=\"https://colab.research.google.com/assets/colab-badge.svg\" alt=\"Open In Colab\"/></a>"
      ]
    },
    {
      "cell_type": "markdown",
      "metadata": {
        "id": "7246b37b"
      },
      "source": [
        "# INPUT"
      ]
    },
    {
      "cell_type": "code",
      "source": [
        "KITE_TOKEN = \"enctoken duHop3kYhG14m9xB/S26YI+hJiWe22h1262G4xnw2upHR+8bsvZyipzy0l2GzKpRCLUZFCZ7ZvEx9xOHbDvKpfwSUsy4VyPUJNyBY9kMVzTlib6hzc7tIg==\""
      ],
      "metadata": {
        "id": "i4cHu8G8l2Ol"
      },
      "execution_count": null,
      "outputs": []
    },
    {
      "cell_type": "code",
      "execution_count": null,
      "metadata": {
        "id": "ea034fa6"
      },
      "outputs": [],
      "source": [
        "PLOT_MODE = \"DOWNLOAD_CHARTS\" # \"DOWNLOAD_CHARTS\",\"DOWNLOAD_LIVE_CHARTS\",\"PLOT_CHARTS\",\"SHOW_CHARTS\",\"OPT_LIVE\",\"NIFTY_LIVE\"\n",
        "LIVE_CHARTS_FII_STRIKES = []\n",
        "\n",
        "WK_OPT_EXPIRY_DATE = \"2025-03-13\"\n",
        "# MN_OPT_EXPIRY_DATE = \"2025-03-27\""
      ]
    },
    {
      "cell_type": "code",
      "execution_count": null,
      "metadata": {
        "id": "ALThHZxi54Gt"
      },
      "outputs": [],
      "source": [
        "DD = 6\n",
        "MM = 8\n",
        "YYYY = 2024\n",
        "START_HH = 9\n",
        "START_MM = 15\n",
        "END_HH = 15\n",
        "END_MM = 30\n",
        "OPT_EXPIRY_DATE = \"2024-08-08\""
      ]
    },
    {
      "cell_type": "code",
      "execution_count": null,
      "metadata": {
        "id": "V-zrY3SE4i44"
      },
      "outputs": [],
      "source": [
        "OPT_LIVE_STRIKE_MAP = {\n",
        "    \"21800_Put\": \"11469314\",\n",
        "    \"21800_Call\": \"11468034\",\n",
        "    \"21900_Put\": \"11479298\",\n",
        "    \"21900_Call\": \"11474178\",\n",
        "    \"22000_Put\": \"11524610\",\n",
        "    \"22000_Call\": \"11523586\",\n",
        "}\n",
        "\n",
        "NIFTY_INSTRUMENT_ID = \"256265\"\n",
        "\n",
        "NIFTY_TOP10_INSTRUMENTS = {\n",
        "    \"HDFCBANK\" : { \"instrument_id\" : \"341249\", \"weightage\" : 13.26 },\n",
        "    \"RELIANCE\" : { \"instrument_id\" : \"738561\", \"weightage\" : 9.11 },\n",
        "    \"ICICIBANK\" : { \"instrument_id\" : \"1270529\", \"weightage\" : 7.42 },\n",
        "    \"INFY\" : { \"instrument_id\" : \"408065\", \"weightage\" : 5.89 },\n",
        "    \"ITC\" : { \"instrument_id\" : \"424961\", \"weightage\" : 4.37 },\n",
        "    \"LT\" : { \"instrument_id\" : \"2939649\", \"weightage\" : 4.26 },\n",
        "    \"TCS\" : { \"instrument_id\" : \"2953217\", \"weightage\" : 4.05 },\n",
        "    \"AXISBANK\" : { \"instrument_id\" : \"1510401\", \"weightage\" : 3.38 },\n",
        "}"
      ]
    },
    {
      "cell_type": "markdown",
      "metadata": {
        "id": "tTDyaVr5onQe"
      },
      "source": [
        "# Imports"
      ]
    },
    {
      "cell_type": "code",
      "execution_count": null,
      "metadata": {
        "id": "a322b5a5"
      },
      "outputs": [],
      "source": [
        "import calendar\n",
        "import datetime\n",
        "import itertools\n",
        "import io\n",
        "import json\n",
        "import more_itertools\n",
        "import numpy as np\n",
        "import os\n",
        "import pandas as pd\n",
        "import pathlib\n",
        "import re\n",
        "import requests\n",
        "from scipy.stats import norm\n",
        "import time\n",
        "import zoneinfo\n",
        "\n",
        "import matplotlib.pyplot as plt\n",
        "from matplotlib.ticker import FuncFormatter"
      ]
    },
    {
      "cell_type": "markdown",
      "metadata": {
        "id": "e4bd67fe"
      },
      "source": [
        "# Configurations"
      ]
    },
    {
      "cell_type": "code",
      "execution_count": null,
      "metadata": {
        "id": "a22c0e01"
      },
      "outputs": [],
      "source": [
        "np.set_printoptions(formatter={\"float_kind\": \"{:.4f}\".format})\n",
        "pd.options.display.float_format = \"{:.4f}\".format\n",
        "pd.options.display.max_columns = None\n",
        "pd.options.display.width = 1000"
      ]
    },
    {
      "cell_type": "markdown",
      "metadata": {
        "id": "BSYyTGVlX8q8"
      },
      "source": [
        "# Global Constants"
      ]
    },
    {
      "cell_type": "code",
      "execution_count": null,
      "metadata": {
        "id": "G5AYia5WX8rG"
      },
      "outputs": [],
      "source": [
        "CHARTIQ_DATA_DIR = \"/content/drive/MyDrive/nifty_kite_data\"\n",
        "\n",
        "INT = 10 / 100 # Risk-free Rate. Default 10%.\n",
        "DIV = 0 / 100 # Annual dividend rate. Default zero.\n",
        "VIX = 15.00 / 100 # Default volatility (if India VIX data is not available)\n",
        "\n",
        "INTERPOLATION_FLAG = True\n",
        "\n",
        "INSTRUMENTS_URL = \"https://api.kite.trade/instruments\""
      ]
    },
    {
      "cell_type": "code",
      "execution_count": null,
      "metadata": {
        "id": "E-EVLlFeX8rG"
      },
      "outputs": [],
      "source": [
        "CHARTIQ_HEADERS = {\n",
        "    \"authority\": \"kite.zerodha.com\",\n",
        "    \"accept\": \"*/*\",\n",
        "    \"accept-language\": \"en-GB,en;q=0.9,en-US;q=0.8,mr;q=0.7,hi;q=0.6\",\n",
        "    \"authorization\": f\"{KITE_TOKEN}\",\n",
        "    \"referer\": \"https://kite.zerodha.com/static/build/chart-beta.html?v=3.3.2\",\n",
        "    \"sec-fetch-dest\": \"empty\",\n",
        "    \"sec-fetch-mode\": \"cors\",\n",
        "    \"sec-fetch-site\": \"same-origin\",\n",
        "    \"user-agent\": \"Mozilla/5.0 (Windows NT 10.0; Win64; x64) AppleWebKit/537.36 (KHTML, like Gecko) Chrome/120.0.0.0 Safari/537.36\",\n",
        "}"
      ]
    },
    {
      "cell_type": "markdown",
      "metadata": {
        "id": "SjF5fFsyX8rH"
      },
      "source": [
        "# Global Variables"
      ]
    },
    {
      "cell_type": "code",
      "execution_count": null,
      "metadata": {
        "id": "91b98483"
      },
      "outputs": [],
      "source": [
        "def get_time_intervals():\n",
        "    start_time = datetime.datetime(YYYY, MM, DD, START_HH, START_MM, 0)\n",
        "    end_time = datetime.datetime(YYYY, MM, DD, END_HH, END_MM, 0)\n",
        "\n",
        "    curr_time = start_time\n",
        "    time_intervals = []\n",
        "    while curr_time <= end_time:\n",
        "        time_intervals.append(curr_time)\n",
        "        curr_time += datetime.timedelta(minutes=1)\n",
        "\n",
        "    return time_intervals"
      ]
    },
    {
      "cell_type": "code",
      "execution_count": null,
      "metadata": {
        "id": "lMACkqCQX8rH"
      },
      "outputs": [],
      "source": [
        "spot_df = vix_df = None\n",
        "oi_opt_df = vol_opt_df = price_opt_df = price_open_opt_df = price_high_opt_df = price_low_opt_df = None\n",
        "tto_opt_df = nt_opt_df = iv_nr_df = prem_decay_df = None\n",
        "oi_fut_df = vol_fut_df = price_fut_df = price_open_fut_df = price_high_fut_df = price_low_fut_df = None\n",
        "vol_stk_df = price_close_stk_df = price_open_stk_df = price_high_stk_df = price_low_stk_df = None\n",
        "CHARTIQ_DATA_TODAY_PATH = \"\"\n",
        "NUM_DAYS_TO_EXPIRY = -1\n",
        "TIME_INTERVALS = TIME_INTERVALS_STR = OPT_STRIKES = FUT_EXPIRIES = []\n",
        "COLORS_STYLE = {}\n",
        "COLOR_LIST = [\n",
        "    \"--k\",\n",
        "    \"magenta\", \"magenta\",\n",
        "    \"red\", \"red\",\n",
        "    \"green\", \"green\",\n",
        "    \"blue\", \"blue\",\n",
        "]\n",
        "NIFTY_INSTRUMENTS_DF = pd.DataFrame([[\"NIFTY 50\", f\"{NIFTY_INSTRUMENT_ID}\"]], columns=[\"name\", \"instrument_token\"])\n",
        "\n",
        "\n",
        "def set_global_variables():\n",
        "    global CHARTIQ_DATA_TODAY_PATH\n",
        "    global DD, MM, YYYY, END_HH, END_MM\n",
        "    global NUM_DAYS_TO_EXPIRY\n",
        "    global TIME_INTERVALS, TIME_INTERVALS_STR\n",
        "    global COLORS_STYLE\n",
        "    datetime_now = datetime.datetime.now(tz=zoneinfo.ZoneInfo(\"Asia/Kolkata\"))\n",
        "    if PLOT_MODE in [\"DOWNLOAD_CHARTS\", \"DOWNLOAD_LIVE_CHARTS\", \"PLOT_CHARTS\", \"OPT_LIVE\", \"NIFTY_LIVE\"]:\n",
        "        DD = datetime_now.day\n",
        "        MM = datetime_now.month\n",
        "        YYYY = datetime_now.year\n",
        "    if PLOT_MODE in [\"OPT_LIVE\", \"NIFTY_LIVE\"]:\n",
        "        END_HH = datetime_now.hour\n",
        "        END_MM = datetime_now.minute\n",
        "    CHARTIQ_DATA_TODAY_PATH = f\"{CHARTIQ_DATA_DIR}/{YYYY:04}/{MM:02}/{DD:02}\"\n",
        "    TIME_INTERVALS = get_time_intervals()\n",
        "    if len(TIME_INTERVALS) > 601 and PLOT_MODE != \"PLOT_CHARTS\":\n",
        "        raise RuntimeError(f\"WARN: Too many time intervals = {len(TIME_INTERVALS)}.\")\n",
        "    TIME_INTERVALS_STR = [f\"{t.hour:02}_{t.minute:02}\" for t in TIME_INTERVALS]\n",
        "    if PLOT_MODE not in [\"DOWNLOAD_CHARTS\", \"DOWNLOAD_LIVE_CHARTS\", \"OPT_LIVE\", \"NIFTY_LIVE\"]:\n",
        "        NUM_DAYS_TO_EXPIRY = (datetime.datetime.strptime(OPT_EXPIRY_DATE, \"%Y-%m-%d\").date() - datetime.datetime(YYYY, MM, DD).date()).days + 1\n",
        "\n",
        "    # COLORS_STYLE = {}\n",
        "    # # COLOR_LIST = [\"--k\", \"red\", \"gold\", \"blue\", \"lightcoral\", \"green\", \"darkorange\", \"magenta\", \"lime\", \"cyan\", \"yellow\", \"brown\", \"deepskyblue\", \"lightseagreen\", \"darkviolet\", \"olive\"]\n",
        "    # if len(COLOR_LIST) >= len(OPT_STRIKES):\n",
        "    #     tab_colors = COLOR_LIST[:len(OPT_STRIKES)]\n",
        "    #     for (s,c) in zip(OPT_STRIKES, tab_colors):\n",
        "    #         COLORS_STYLE[s] = c\n",
        "# end set_global_variables()\n",
        "\n",
        "\n",
        "set_global_variables()"
      ]
    },
    {
      "cell_type": "markdown",
      "metadata": {
        "id": "24810564"
      },
      "source": [
        "# Global Functions"
      ]
    },
    {
      "cell_type": "code",
      "execution_count": null,
      "metadata": {
        "id": "c15c2f50"
      },
      "outputs": [],
      "source": [
        "def interpolate_by_time(df, df_type):\n",
        "    \"\"\"\n",
        "    df = columns->time, index->strike\n",
        "    \"\"\"\n",
        "    if not INTERPOLATION_FLAG:\n",
        "        print(\"'INTERPOLATION_FLAG' is OFF. Skipping interpolation.\")\n",
        "        return df\n",
        "\n",
        "    df_arr = []\n",
        "    for t in TIME_INTERVALS:\n",
        "        hh_mm = f\"{t.hour:02}_{t.minute:02}\"\n",
        "        if hh_mm not in df.columns:\n",
        "            df_arr.append(pd.Series(data={}, dtype=float, index=df.index, name=hh_mm))\n",
        "        else:\n",
        "            df[hh_mm] = df[hh_mm].replace([np.inf, -np.inf, 0], np.nan)\n",
        "\n",
        "    df_arr.append(df)\n",
        "    df = pd.concat(df_arr, axis=1)\n",
        "    df = df[df.columns.sort_values()]\n",
        "    df = df.interpolate(method=\"linear\", limit_direction=\"both\", axis=1)\n",
        "    df = df.astype(df_type)\n",
        "    return df"
      ]
    },
    {
      "cell_type": "code",
      "execution_count": null,
      "metadata": {
        "id": "5b78b6bd"
      },
      "outputs": [],
      "source": [
        "def interpolate_by_strike(df, df_type):\n",
        "    \"\"\"\n",
        "    df = columns->time, index->strike\n",
        "    \"\"\"\n",
        "    df = df.replace([np.inf, -np.inf, 0], np.nan)\n",
        "    df = df.T[df.index.sort_values()].T\n",
        "    df = df.interpolate(method=\"linear\", limit_direction=\"both\", axis=0)\n",
        "    df = df.astype(df_type)\n",
        "    return df"
      ]
    },
    {
      "cell_type": "code",
      "execution_count": null,
      "metadata": {
        "id": "Zwjv2Xr4RvX4"
      },
      "outputs": [],
      "source": [
        "def get_normalized_n_consolidate_call_n_put(df):\n",
        "    df_sum = df.sum().sum()\n",
        "    call_sr = df.T[[s for s in OPT_STRIKES if \"00_Call\" in s]].T.sum()\n",
        "    put_sr = df.T[[s for s in OPT_STRIKES if \"00_Put\" in s]].T.sum()\n",
        "    normalized_df = pd.concat([call_sr, put_sr], axis=1)\n",
        "    normalized_df.columns = [\"Call\", \"Put\"]\n",
        "    normalized_df = normalized_df * 200 / df_sum\n",
        "    return normalized_df"
      ]
    },
    {
      "cell_type": "code",
      "execution_count": null,
      "metadata": {
        "id": "f29eec61"
      },
      "outputs": [],
      "source": [
        "def get_premium_decay(spot_df, price_df):\n",
        "    prem_decay_df = pd.DataFrame(columns=price_df.columns, index=price_df.index)\n",
        "    for s in price_df.index:\n",
        "        strike = int(s.split(\"_\")[0])\n",
        "        prem_decay_df.loc[s] = ((price_df.loc[s,] - (spot_df - strike)) * 100 / spot_df).values\n",
        "        if s.split(\"_\")[1] == \"Put\":\n",
        "            prem_decay_df.loc[s] = prem_decay_df.loc[s] * -1\n",
        "    return prem_decay_df"
      ]
    },
    {
      "cell_type": "code",
      "execution_count": null,
      "metadata": {
        "id": "17e7ee84",
        "scrolled": false
      },
      "outputs": [],
      "source": [
        "def get_direction(row, money_flow_df):\n",
        "    if money_flow_df.index.get_loc(row.name) == 0:\n",
        "        return 0\n",
        "    elif row[\"diff_avg_price\"] > 0:\n",
        "        return 1\n",
        "    elif row[\"diff_avg_price\"] < 0:\n",
        "        return -1\n",
        "    else:\n",
        "        r = money_flow_df.index.get_loc(row.name) - 1\n",
        "        c = money_flow_df.columns.get_loc(\"direction\")\n",
        "        return money_flow_df.iloc[r, c]\n",
        "#\n",
        "def compute_money_flow_df(strikes):\n",
        "    money_flow_df_for_strikes = pd.DataFrame()\n",
        "    for strike in strikes:\n",
        "        money_flow_df = pd.DataFrame()\n",
        "        money_flow_df[\"gross_turnover\"] = tto_opt_df.T[strike]\n",
        "        money_flow_df[\"gross_volume\"] = vol_opt_df.T[strike]\n",
        "        money_flow_df[\"prev_gross_turnover\"] = money_flow_df[\"gross_turnover\"].shift(periods=1, fill_value=0)\n",
        "        money_flow_df[\"prev_gross_volume\"] = money_flow_df[\"gross_volume\"].shift(periods=1, fill_value=0)\n",
        "        money_flow_df[\"diff_gross_turnover\"] = money_flow_df[\"gross_turnover\"] - money_flow_df[\"prev_gross_turnover\"]\n",
        "        money_flow_df[\"diff_gross_volume\"] = money_flow_df[\"gross_volume\"] - money_flow_df[\"prev_gross_volume\"]\n",
        "        money_flow_df[\"diff_gross_volume\"] = money_flow_df[\"diff_gross_volume\"].replace({0: 1})\n",
        "        money_flow_df[\"avg_price\"] = money_flow_df[\"diff_gross_turnover\"] / money_flow_df[\"diff_gross_volume\"]\n",
        "        money_flow_df[\"prev_avg_price\"] = money_flow_df[\"avg_price\"].shift(periods=1, fill_value=0)\n",
        "        money_flow_df[\"diff_avg_price\"] = money_flow_df[\"avg_price\"] - money_flow_df[\"prev_avg_price\"]\n",
        "        money_flow_df[\"direction\"] = 0\n",
        "        money_flow_df[\"direction\"] = money_flow_df.apply(lambda row: get_direction(row, money_flow_df), axis=1)\n",
        "        money_flow_df[\"delta_money_flow\"] = abs(money_flow_df[\"diff_gross_turnover\"]) * money_flow_df[\"direction\"]\n",
        "        money_flow_df[\"net_money_flow\"] = money_flow_df[\"delta_money_flow\"].cumsum()\n",
        "        money_flow_df_for_strikes[strike] = money_flow_df[\"net_money_flow\"]\n",
        "    #\n",
        "    return money_flow_df_for_strikes"
      ]
    },
    {
      "cell_type": "code",
      "execution_count": null,
      "metadata": {
        "id": "Oihn2-JYKiDW"
      },
      "outputs": [],
      "source": [
        "def get_direction_ohlcv(row, money_flow_df):\n",
        "    if row[\"diff_avg_price\"] > 0:\n",
        "        return 1\n",
        "    elif row[\"diff_avg_price\"] < 0:\n",
        "        return -1\n",
        "    else:\n",
        "        r = money_flow_df.index.get_loc(row.name) - 1\n",
        "        c = money_flow_df.columns.get_loc(\"direction\")\n",
        "        return money_flow_df.iloc[r, c]\n",
        "#\n",
        "def compute_money_flow_ohlcv(instruments, ohlcv_map):\n",
        "    o_df = ohlcv_map[\"O\"]\n",
        "    h_df = ohlcv_map[\"H\"]\n",
        "    l_df = ohlcv_map[\"L\"]\n",
        "    c_df = ohlcv_map[\"C\"]\n",
        "    v_df = ohlcv_map[\"V\"]\n",
        "    money_flow_df_for_instruments = pd.DataFrame()\n",
        "    for instrument in instruments:\n",
        "        money_flow_df = pd.DataFrame()\n",
        "        money_flow_df[\"avg_price\"] = (o_df.T[instrument] + h_df.T[instrument] + l_df.T[instrument] + c_df.T[instrument]) / 4\n",
        "        money_flow_df[\"gross_turnover\"] = money_flow_df[\"avg_price\"] * v_df.T[instrument]\n",
        "        money_flow_df[\"prev_avg_price\"] = money_flow_df[\"avg_price\"].shift(periods=1, fill_value=0)\n",
        "        money_flow_df[\"diff_avg_price\"] = money_flow_df[\"avg_price\"] - money_flow_df[\"prev_avg_price\"]\n",
        "        money_flow_df[\"direction\"] = 0\n",
        "        # Compute direction for first record.\n",
        "        money_flow_df.iloc[0, money_flow_df.columns.get_loc(\"direction\")] = 1 if c_df.T[instrument][0] >= o_df.T[instrument][0] else -1\n",
        "        # Compute direction for rest records.\n",
        "        money_flow_df[\"direction\"] = money_flow_df.apply(lambda row: get_direction_ohlcv(row, money_flow_df), axis=1)\n",
        "        money_flow_df[\"delta_money_flow\"] = abs(money_flow_df[\"gross_turnover\"]) * money_flow_df[\"direction\"]\n",
        "        money_flow_df[\"net_money_flow\"] = money_flow_df[\"delta_money_flow\"].cumsum()\n",
        "        money_flow_df_for_instruments[instrument] = money_flow_df[\"net_money_flow\"]\n",
        "    #\n",
        "    return money_flow_df_for_instruments"
      ]
    },
    {
      "cell_type": "code",
      "execution_count": null,
      "metadata": {
        "id": "f19f1323"
      },
      "outputs": [],
      "source": [
        "# https://quant.stackexchange.com/a/49724/55611\n",
        "\n",
        "def d_one(s, k, t, rfr, sigma, div=0):\n",
        "    d_1 = (np.log(s / k) + (rfr - div + sigma ** 2 / 2) * t) / (sigma * np.sqrt(t))\n",
        "    return d_1\n",
        "\n",
        "\n",
        "def d_two(s, k, t, rfr, sigma, div=0):\n",
        "    d_2 = d_one(s, k, t, rfr, sigma, div) - sigma * np.sqrt(t)\n",
        "    return d_2\n",
        "\n",
        "\n",
        "def nd_one(right, s, k, t, rfr, sigma, div=0):\n",
        "    if right == 'C':\n",
        "        nd_1 = norm.cdf(d_one(s, k, t, rfr, sigma, div), 0, 1)\n",
        "    elif right == 'P':\n",
        "        nd_1 = norm.cdf(-d_one(s, k, t, rfr, sigma, div), 0, 1)\n",
        "    return nd_1\n",
        "\n",
        "\n",
        "def nd_two(right, s, k, t, rfr, sigma, div=0):\n",
        "    if right == 'C':\n",
        "        nd_2 = norm.cdf(d_two(s, k, t, rfr, sigma, div), 0, 1)\n",
        "    elif right == 'P':\n",
        "        nd_2 = norm.cdf(-d_two(s, k, t, rfr, sigma, div), 0, 1)\n",
        "    return nd_2\n",
        "\n",
        "\n",
        "def option_price(right, s, k, t, rfr, sigma, div=0):\n",
        "    right = right.upper()\n",
        "    t /= 365\n",
        "    if right == 'C':\n",
        "        price = (s * np.exp(-div * t) *\n",
        "                 nd_one(right, s, k, t, rfr, sigma, div)\n",
        "                 - k * np.exp(-rfr * t) *\n",
        "                 nd_two(right, s, k, t, rfr, sigma, div))\n",
        "    elif right == 'P':\n",
        "        price = (k * np.exp(-rfr * t) *\n",
        "                 nd_two(right, s, k, t, rfr, sigma, div)\n",
        "                 - s * np.exp(-div * t) *\n",
        "                 nd_one(right, s, k, t, rfr, sigma, div))\n",
        "    return price\n",
        "\n",
        "\n",
        "def option_vega(s, k, t, rfr, sigma, div=0):\n",
        "    t /= 365\n",
        "    vega = (.01 * s * np.exp(-div * t) * np.sqrt(t)\n",
        "            * norm.pdf(d_one(s, k, t, rfr, sigma, div)))\n",
        "    return vega\n",
        "\n",
        "\n",
        "def implied_volatility_nr(right, s, k, t, rfr, price, div=0):\n",
        "    epsilon = 0.000001\n",
        "    sigma = 1.0\n",
        "\n",
        "    def newton_raphson(right, s, k, t, rfr, sigma, price, epsilon, div=0):\n",
        "        diff = np.abs(option_price(right, s, k, t, rfr, sigma, div) - price)\n",
        "        while diff > epsilon:\n",
        "            sigma = (sigma -\n",
        "                     (option_price(right, s, k, t, rfr, sigma, div) - price) /\n",
        "                     (option_vega(s, k, t, rfr, sigma, div) * 100))\n",
        "            diff = np.abs(\n",
        "                    option_price(right, s, k, t, rfr, sigma, div) - price)\n",
        "        return sigma\n",
        "\n",
        "    iv = newton_raphson(right, s, k, t, rfr, sigma, price, epsilon, div)\n",
        "    return iv\n",
        "#\n",
        "\n",
        "ONE_UNIT = 0.1\n",
        "STEP = 0.001\n",
        "\n",
        "def implied_volatility_brute_force(right, s, k, t, rfr, strike_price, div=0, _sigma_initial_value=0.15):\n",
        "        _sigma = _sigma_initial_value\n",
        "        for i in range(200): #max number of calculations\n",
        "            bs_price = option_price(right, s, k, t, rfr, sigma=_sigma, div=div)\n",
        "            diff = strike_price - bs_price\n",
        "            if diff > ONE_UNIT:\n",
        "                _sigma = _sigma + STEP\n",
        "            elif diff < 0 and abs(diff) > ONE_UNIT:\n",
        "                _sigma = _sigma - STEP\n",
        "            elif abs(diff) < ONE_UNIT:\n",
        "                return _sigma\n",
        "        return _sigma\n",
        "#\n",
        "\n",
        "# right = 'C' #'C' or 'P'\n",
        "# s = 17672 #Spot Price\n",
        "# k = 17600 #Strike\n",
        "# t = 7 #Days to expiration\n",
        "# rfr = .10 #Risk-free Rate\n",
        "# sigma = .154 #VIX\n",
        "# div = 0 #Annual dividend yield.\n",
        "# call_premium = 208.65\n",
        "# put_premium = 102.93\n",
        "\n",
        "# option_price(right, s, k, t, rfr, sigma, div)\n",
        "\n",
        "# implied_volatility_nr(right, s, k, t, rfr, call_premium, div)\n",
        "# implied_volatility_brute_force(right, s, k, t, rfr, call_premium, div)\n",
        "\n",
        "# implied_volatility_nr(\"C\", 17616.3, 17300, 1, 0.1, 231.15, 0.0)\n",
        "# implied_volatility_brute_force(\"C\", 17616.3, 17300, 1, 0.1, 231.15, 0)"
      ]
    },
    {
      "cell_type": "code",
      "execution_count": null,
      "metadata": {
        "id": "8e04e3e8"
      },
      "outputs": [],
      "source": [
        "def compute_premium_using_bs(spot_df, price_df, vix_df):\n",
        "    prem_bs_df = pd.DataFrame(columns=spot_df.columns, index=price_df.index)\n",
        "    for s in price_df.index:\n",
        "        strike = int(s.split(\"_\")[0])\n",
        "        right = s.split(\"_\")[1][0] # \"C\" or \"P\"\n",
        "        for t in spot_df.columns:\n",
        "            spot_price = spot_df.loc[\"NIFTY\", t]\n",
        "            vix_t = VIX\n",
        "            if len(vix_df):\n",
        "                vix_t = vix_df.loc[\"VIX\", t] / 100\n",
        "            premium = option_price(right, spot_price, strike, NUM_DAYS_TO_EXPIRY, INT, vix_t, DIV)\n",
        "            prem_bs_df.loc[s, t] = premium\n",
        "\n",
        "    return prem_bs_df"
      ]
    },
    {
      "cell_type": "code",
      "execution_count": null,
      "metadata": {
        "id": "174178f9",
        "scrolled": false
      },
      "outputs": [],
      "source": [
        "def compute_iv_using_nr(spot_df, price_df):\n",
        "    iv_nr_df = pd.DataFrame(columns=spot_df.columns, index=price_df.index)\n",
        "    for s in price_df.index:\n",
        "        strike = int(s.split(\"_\")[0])\n",
        "        right = s.split(\"_\")[1][0] # \"C\" or \"P\"\n",
        "        for t in spot_df.columns:\n",
        "            strike_price = price_df.loc[s, t]\n",
        "            spot_price = spot_df.loc[\"NIFTY\", t]\n",
        "            iv = implied_volatility_nr(right, spot_price, strike, NUM_DAYS_TO_EXPIRY, INT, strike_price, DIV)\n",
        "            iv_nr_df.loc[s, t] = iv\n",
        "\n",
        "    iv_nr_df = interpolate_by_strike(iv_nr_df, float)\n",
        "    return iv_nr_df"
      ]
    },
    {
      "cell_type": "code",
      "execution_count": null,
      "metadata": {
        "id": "85142914"
      },
      "outputs": [],
      "source": [
        "def compute_iv_using_bf(spot_df, price_df, vix_df):\n",
        "    iv_bf_df = pd.DataFrame(columns=spot_df.columns, index=price_df.index)\n",
        "    for s in price_df.index:\n",
        "        strike = int(s.split(\"_\")[0])\n",
        "        right = s.split(\"_\")[1][0] # \"C\" or \"P\"\n",
        "        for t in spot_df.columns:\n",
        "            strike_price = price_df.loc[s, t]\n",
        "            spot_price = spot_df.loc[\"NIFTY\", t]\n",
        "            vix_t = VIX\n",
        "            if len(vix_df):\n",
        "                vix_t = vix_df.loc[\"VIX\", t] / 100\n",
        "            iv = implied_volatility_brute_force(right, spot_price, strike, NUM_DAYS_TO_EXPIRY, INT, strike_price, DIV, vix_t)\n",
        "            if iv < 0.001:\n",
        "                iv = np.nan\n",
        "            iv_bf_df.loc[s, t] = iv\n",
        "\n",
        "    iv_bf_df = interpolate_by_strike(iv_bf_df, float)\n",
        "    return iv_bf_df"
      ]
    },
    {
      "cell_type": "markdown",
      "metadata": {
        "id": "8bLrstEleSRW"
      },
      "source": [
        "##Plot"
      ]
    },
    {
      "cell_type": "code",
      "execution_count": null,
      "metadata": {
        "id": "HEemVpw4z0Pj"
      },
      "outputs": [],
      "source": [
        "def plot_df(df, plot_spot=False, figsize=None, ax=None, title=None, style=None, kind=\"line\"):\n",
        "    if title:\n",
        "        ax.set_title(title, pad=0)\n",
        "\n",
        "    ax.yaxis.set_major_formatter(FuncFormatter(lambda x, p: format(int(x), \",\")))\n",
        "    ax.margins(x=0)\n",
        "    ax.grid(True, linestyle=\"--\", linewidth=.5)\n",
        "    for spine in ax.spines.values():\n",
        "        spine.set_visible(False)\n",
        "\n",
        "    ticks_df = pd.DataFrame(data=[t for t in df.index], columns=[\"ticks\"])\n",
        "    ticks_df[\"ticks\"] = ticks_df[\"ticks\"].apply(lambda t: t if t.endswith(\"_00\") or t.endswith(\"_15\") or t.endswith(\"_30\") or t.endswith(\"_45\") else None)\n",
        "    ticks_df = ticks_df.dropna(subset=[\"ticks\"])\n",
        "    tick_indices = ticks_df.index.values\n",
        "    tick_labels = ticks_df.ticks.values\n",
        "    ax.xaxis.set_ticks(ticks=tick_indices, labels=tick_labels)\n",
        "\n",
        "    if (len(df.columns) == 1) or (len(df.columns) == 2 and \"NIFTY\" in df.columns):\n",
        "        strike = df.columns[0]\n",
        "        color = style[strike]\n",
        "        if kind == \"bar\":\n",
        "            ax.bar(x=df.index.values, height=df[strike].values, color=color, label=strike)\n",
        "        else:\n",
        "            ax.plot(df.index.values, df[strike].values, color=color, label=strike)\n",
        "        ax.legend()\n",
        "    else:\n",
        "        y_df = df[[strike for strike in df.columns if strike != \"NIFTY\"]]\n",
        "        ax.plot(y_df.index.values, y_df.values)\n",
        "        ax.legend(y_df.columns)\n",
        "\n",
        "    if plot_spot:\n",
        "        ax2 = ax.twinx()\n",
        "        ax2.plot(df.index.values, df[\"NIFTY\"].values, color=\"black\", linestyle=\"dashed\", label=\"NIFTY\")\n",
        "#\n",
        "\n",
        "# fig, axs = plt.subplots(nrows=2, ncols=1, figsize=(20, 8))\n",
        "# style = {\"21500_Call\": \"green\"}\n",
        "# plot_df(vol_opt_df.T[[\"21500_Call\"]], ax=axs[0], title=\"VOL\", style=style, kind=\"bar\")\n",
        "# plot_df(vol_opt_df.T[[\"21500_Call\"]], ax=axs[1], title=\"VOL\", style=style, kind=\"line\")"
      ]
    },
    {
      "cell_type": "code",
      "execution_count": null,
      "metadata": {
        "id": "e8970b41"
      },
      "outputs": [],
      "source": [
        "def plot_x_roc(x_df, scale=False, include_strikes=[], exclude_strikes=[], plot_spot=False, figsize=None, ax=None, title=None, style=None, kind=\"line\"):\n",
        "    x_diff_df = pd.DataFrame(columns=sorted(x_df.columns))\n",
        "    x_diff_df[x_df.columns[0]] = x_df[x_diff_df.columns[0]]\n",
        "    for t in x_diff_df.columns[1:]:\n",
        "        x_diff_df[t] = x_df[t] - x_df[x_df.columns[0]]\n",
        "\n",
        "    if include_strikes:\n",
        "        x_diff_df = x_diff_df[x_diff_df.index.isin(include_strikes)]\n",
        "\n",
        "    if exclude_strikes:\n",
        "        x_diff_df = x_diff_df[~x_diff_df.index.isin(exclude_strikes)]\n",
        "\n",
        "    x_diff_df = x_diff_df.T\n",
        "\n",
        "    if plot_spot:\n",
        "        x_diff_df = x_diff_df.join(spot_df.T)\n",
        "\n",
        "    if scale:\n",
        "        for s in sorted(x_diff_df.columns):\n",
        "            max_val = x_diff_df[s].max()\n",
        "            x_diff_df.loc[:,s] = x_diff_df[s] * 100 / max_val\n",
        "\n",
        "    x_diff_df = x_diff_df.iloc[1:,]\n",
        "\n",
        "    x_diff_df = x_diff_df[sorted(x_diff_df.columns)]\n",
        "    plot_df(x_diff_df, plot_spot=plot_spot, figsize=figsize, ax=ax, title=title, style=style, kind=kind)"
      ]
    },
    {
      "cell_type": "code",
      "execution_count": null,
      "metadata": {
        "id": "d121b24d",
        "scrolled": false
      },
      "outputs": [],
      "source": [
        "def plot_x_diff(x_df, scale=False, include_strikes=[], exclude_strikes=[], plot_spot=False, plot_spot_diff=False, figsize=None, ax=None, title=None, style=None, kind=\"line\"):\n",
        "    if plot_spot and plot_spot_diff:\n",
        "        raise ValueError(f\"Either paramter should be used (not both): 'plot_spot', 'plot_spot_diff'\")\n",
        "\n",
        "    x_diff_df = pd.DataFrame(columns=sorted(x_df.columns[1:]))\n",
        "    for t1, t2 in more_itertools.pairwise(sorted(x_df.columns)):\n",
        "        x_diff_df[t2] = x_df[t2] - x_df[t1]\n",
        "\n",
        "    if include_strikes:\n",
        "        x_diff_df = x_diff_df[x_diff_df.index.isin(include_strikes)]\n",
        "\n",
        "    if exclude_strikes:\n",
        "        x_diff_df = x_diff_df[~x_diff_df.index.isin(exclude_strikes)]\n",
        "\n",
        "    x_diff_df = x_diff_df.T\n",
        "\n",
        "    if plot_spot:\n",
        "        x_diff_df = x_diff_df.join(spot_df.T)\n",
        "    elif plot_spot_diff:\n",
        "        spot_diff_df = pd.DataFrame(columns=sorted(spot_df.columns[1:]))\n",
        "        for t1, t2 in more_itertools.pairwise(sorted(spot_df.columns)):\n",
        "            spot_diff_df[t2] = spot_df[t2] - spot_df[t1]\n",
        "        x_diff_df = x_diff_df.join(spot_diff_df.T)\n",
        "\n",
        "    if scale:\n",
        "        for s in sorted(x_diff_df.columns):\n",
        "            max_val = x_diff_df[s].max()\n",
        "            x_diff_df.loc[:,s] = x_diff_df[s] * 100 / max_val\n",
        "\n",
        "    x_diff_df = x_diff_df[sorted(x_diff_df.columns)]\n",
        "    plot_df(x_diff_df, plot_spot=(plot_spot or plot_spot_diff), figsize=figsize, ax=ax, title=title, style=style, kind=kind)"
      ]
    },
    {
      "cell_type": "markdown",
      "metadata": {
        "id": "d0jx15F4ennc"
      },
      "source": [
        "##Data Load"
      ]
    },
    {
      "cell_type": "code",
      "execution_count": null,
      "metadata": {
        "id": "IL8If7JU7WcU"
      },
      "outputs": [],
      "source": [
        "def read_chartiq_idx_fno_file(fno_filepath):\n",
        "    fno_df = pd.read_csv(fno_filepath)\n",
        "    return process_idx_fno_chartiq_df(fno_df)\n",
        "#\n",
        "\n",
        "def process_idx_fno_chartiq_df(df):\n",
        "    fno_df = df.copy()\n",
        "    fno_df[\"Date\"] = fno_df[\"Date\"].apply(parse_datetime)\n",
        "    fno_df = filter_exta_data(fno_df)\n",
        "    fno_df = fno_df.drop_duplicates(subset=[\"Date\"])\n",
        "    fno_df[\"Date\"] = fno_df[\"Date\"].apply(convert_timestamp_to_hhmm)\n",
        "    fno_df = fno_df.set_index(\"Date\")\n",
        "    fno_df.index.names = [\"\"]\n",
        "    return fno_df\n",
        "#\n",
        "\n",
        "def parse_datetime(ts_in):\n",
        "    if PLOT_MODE in [\"DOWNLOAD_CHARTS\", \"DOWNLOAD_LIVE_CHARTS\", \"OPT_LIVE\", \"NIFTY_LIVE\"]:\n",
        "        dt = datetime.datetime.strptime(ts_in, \"%Y-%m-%dT%H:%M:%S%z\")\n",
        "    else:\n",
        "        ts = ts_in.replace(\"GMT+0530 (India Standard Time)\", \"+0530\")\n",
        "        try:\n",
        "            dt = datetime.datetime.strptime(ts, \"%Y-%m-%dT%H:%M:%S%z\")\n",
        "        except ValueError:\n",
        "            dt = datetime.datetime.strptime(ts, \"%a %b %d %Y %H:%M:%S %z\")\n",
        "    return dt\n",
        "#\n",
        "\n",
        "def convert_timestamp_to_hhmm(dt):\n",
        "    return f\"{dt.hour:02}_{dt.minute:02}\"\n",
        "#\n",
        "\n",
        "def filter_exta_data(df_in):\n",
        "    start_time = datetime.datetime(YYYY, MM, DD, START_HH, START_MM, 0, tzinfo=zoneinfo.ZoneInfo(\"Asia/Kolkata\"))\n",
        "    end_time = datetime.datetime(YYYY, MM, DD, END_HH, END_MM, 0, tzinfo=zoneinfo.ZoneInfo(\"Asia/Kolkata\"))\n",
        "    df_out = df_in[(df_in[\"Date\"] >= start_time) & (df_in[\"Date\"] <= end_time)]\n",
        "    return df_out\n",
        "#\n",
        "\n",
        "def build_attr_df_from_df_dict(attr, df_dict):\n",
        "    sr_arr = []\n",
        "    for k, k_df in df_dict.items():\n",
        "        sr_arr.append(pd.Series(data=k_df[attr], name=k))\n",
        "    return pd.concat(sr_arr, axis=1)"
      ]
    },
    {
      "cell_type": "code",
      "execution_count": null,
      "metadata": {
        "id": "lr2vlPr6TQhQ"
      },
      "outputs": [],
      "source": [
        "def parse_index_data(dirpath):\n",
        "    index_files = [os.path.join(dirpath, f) for f in os.listdir(dirpath) if \"NIFTY 50 \" in f or \"INDIA VIX \" in f or f == \"NIFTY.csv\" or f == \"VIX.csv\"]\n",
        "    df_dict = {}\n",
        "    for f in index_files:\n",
        "        index_name = pathlib.Path(f).stem\n",
        "        index_key = \"VIX\" if \"VIX\" in index_name else \"NIFTY\"\n",
        "        df_dict[index_key] = read_chartiq_idx_fno_file(f)\n",
        "    return df_dict\n",
        "#\n",
        "\n",
        "def parse_options_data(dirpath):\n",
        "    global OPT_STRIKES\n",
        "    options_files = [os.path.join(dirpath, f) for f in os.listdir(dirpath) if \" CE \" in f or \" PE \" in f or \"_Call\" in f or \"_Put\" in f]\n",
        "    df_dict = {}\n",
        "    OPT_STRIKES = []\n",
        "    for f in options_files:\n",
        "        strike = pathlib.Path(f).stem\n",
        "        if \" CE \" in f or \" PE \" in f:\n",
        "            strike = re.search(r\"\\d+\\s(CE|PE)\", strike).group()\n",
        "            strike = strike.replace(\" CE\", \"_Call\").replace(\" PE\", \"_Put\")\n",
        "        df_dict[strike] = read_chartiq_idx_fno_file(f)\n",
        "        OPT_STRIKES.append(strike)\n",
        "    return df_dict\n",
        "#\n",
        "\n",
        "def parse_futures_data(dirpath):\n",
        "    global FUT_EXPIRIES\n",
        "    futures_files = [os.path.join(dirpath, f) for f in os.listdir(dirpath) if \" FUT \" in f or \"_Future\" in f]\n",
        "    df_dict = {}\n",
        "    FUT_EXPIRIES = []\n",
        "    for f in futures_files:\n",
        "        expiry = pathlib.Path(f).stem\n",
        "        if \" FUT \" in f:\n",
        "            expiry = re.search(r\"[A-Za-z]+ FUT\", expiry).group()\n",
        "            expiry = expiry.replace(\" FUT\", \"_Future\")\n",
        "        df_dict[expiry] = read_chartiq_idx_fno_file(f)\n",
        "        FUT_EXPIRIES.append(expiry)\n",
        "    return df_dict\n",
        "#\n",
        "\n",
        "def get_instruments_historical_url(instrument_id, oi=0):\n",
        "    return f\"https://kite.zerodha.com/oms/instruments/historical/{instrument_id}/minute?user_id=JV5904&oi={oi}&from={YYYY}-{MM:02}-{DD:02}&to={YYYY}-{MM:02}-{DD:02}\"\n",
        "#\n",
        "\n",
        "def download_index_data(instruments_df):\n",
        "    df_dict = {}\n",
        "    for idx, row in instruments_df.iterrows():\n",
        "        index_name = row[\"name\"]\n",
        "        instrument_id = row[\"instrument_token\"]\n",
        "        CHARTIQ_URL = get_instruments_historical_url(instrument_id, oi=0)\n",
        "        idx_data = call_chartiq_api(CHARTIQ_URL, retry=True)\n",
        "        idx_data_df = pd.DataFrame(idx_data, columns=[\"Date\", \"Open\", \"High\", \"Low\", \"Close\", \"Volume\"])\n",
        "        idx_data_df = idx_data_df.drop(columns=\"Volume\")\n",
        "        index_key = \"NIFTY\" if \"NIFTY 50\" in index_name else \"VIX\"\n",
        "        if PLOT_MODE in [\"DOWNLOAD_CHARTS\", \"DOWNLOAD_LIVE_CHARTS\"]:\n",
        "            idx_data_df.to_csv(f\"{CHARTIQ_DATA_TODAY_PATH}/{index_key}.csv\", index=False)\n",
        "        df_dict[index_key] = process_idx_fno_chartiq_df(idx_data_df)\n",
        "        time.sleep(1)\n",
        "    return df_dict\n",
        "#\n",
        "\n",
        "def download_options_data(instruments_df):\n",
        "    global OPT_STRIKES\n",
        "    df_dict = {}\n",
        "    OPT_STRIKES = []\n",
        "    for idx, row in instruments_df.iterrows():\n",
        "        strike = row[\"strike\"]\n",
        "        instrument_id = row[\"instrument_token\"]\n",
        "        CHARTIQ_URL = get_instruments_historical_url(instrument_id, oi=1)\n",
        "        opt_data = call_chartiq_api(CHARTIQ_URL, retry=True)\n",
        "        opt_data_df = pd.DataFrame(opt_data, columns=[\"Date\", \"Open\", \"High\", \"Low\", \"Close\", \"Volume\", \"OI\"])\n",
        "        opt_data_df.to_csv(f\"{CHARTIQ_DATA_TODAY_PATH}/{strike}.csv\", index=False)\n",
        "        df_dict[strike] = process_idx_fno_chartiq_df(opt_data_df)\n",
        "        OPT_STRIKES.append(strike)\n",
        "        time.sleep(1)\n",
        "    return df_dict\n",
        "#\n",
        "\n",
        "def download_futures_data(instruments_df):\n",
        "    global FUT_EXPIRIES\n",
        "    df_dict = {}\n",
        "    FUT_EXPIRIES = []\n",
        "    for idx, row in instruments_df.iterrows():\n",
        "        expiry = row[\"expiry\"]\n",
        "        instrument_id = row[\"instrument_token\"]\n",
        "        CHARTIQ_URL = get_instruments_historical_url(instrument_id, oi=1)\n",
        "        fut_data = call_chartiq_api(CHARTIQ_URL, retry=True)\n",
        "        fut_data_df = pd.DataFrame(fut_data, columns=[\"Date\", \"Open\", \"High\", \"Low\", \"Close\", \"Volume\", \"OI\"])\n",
        "        fut_data_df.to_csv(f\"{CHARTIQ_DATA_TODAY_PATH}/{expiry}.csv\", index=False)\n",
        "        df_dict[expiry] = process_idx_fno_chartiq_df(fut_data_df)\n",
        "        FUT_EXPIRIES.append(expiry)\n",
        "        time.sleep(1)\n",
        "    return df_dict\n",
        "#\n",
        "\n",
        "def download_options_live_data():\n",
        "    global OPT_STRIKES\n",
        "    df_dict = {}\n",
        "    OPT_STRIKES = []\n",
        "    for strike, instrument_id in OPT_LIVE_STRIKE_MAP.items():\n",
        "        CHARTIQ_URL = get_instruments_historical_url(instrument_id, oi=1)\n",
        "        opt_data = call_chartiq_api(CHARTIQ_URL)\n",
        "        opt_data_df = pd.DataFrame(opt_data, columns=[\"Date\", \"Open\", \"High\", \"Low\", \"Close\", \"Volume\", \"OI\"])\n",
        "        df_dict[strike] = process_idx_fno_chartiq_df(opt_data_df)\n",
        "        OPT_STRIKES.append(strike)\n",
        "        time.sleep(1)\n",
        "    return df_dict\n",
        "#\n",
        "\n",
        "def download_nifty_top10_live_data():\n",
        "    df_dict = {}\n",
        "    for symbol, instrument_map in NIFTY_TOP10_INSTRUMENTS.items():\n",
        "        CHARTIQ_URL = get_instruments_historical_url(instrument_map[\"instrument_id\"], oi=0)\n",
        "        stk_data = call_chartiq_api(CHARTIQ_URL)\n",
        "        stk_data_df = pd.DataFrame(stk_data, columns=[\"Date\", \"Open\", \"High\", \"Low\", \"Close\", \"Volume\"])\n",
        "        df_dict[symbol] = process_idx_fno_chartiq_df(stk_data_df)\n",
        "        time.sleep(1)\n",
        "    return df_dict\n",
        "#"
      ]
    },
    {
      "cell_type": "code",
      "execution_count": null,
      "metadata": {
        "id": "CYSqU0w6qv-F"
      },
      "outputs": [],
      "source": [
        "def build_fno_stk_df(df_dict, oi=True):\n",
        "    # Build Open Interest df\n",
        "    oi_fno_df = None\n",
        "    if oi:\n",
        "        oi_fno_df = build_attr_df_from_df_dict(\"OI\", df_dict)\n",
        "        oi_fno_df = oi_fno_df.T\n",
        "        oi_fno_df = oi_fno_df[sorted(oi_fno_df.columns)]\n",
        "        oi_fno_df = interpolate_by_time(oi_fno_df, int)\n",
        "        oi_fno_df = oi_fno_df.astype(int)\n",
        "        oi_fno_df = oi_fno_df[sorted(TIME_INTERVALS_STR)]\n",
        "        oi_fno_df = oi_fno_df.copy()\n",
        "\n",
        "    # Build Volume df\n",
        "    vol_fno_df = build_attr_df_from_df_dict(\"Volume\", df_dict)\n",
        "    vol_fno_df = vol_fno_df.T\n",
        "    vol_fno_df = vol_fno_df[sorted(vol_fno_df.columns)]\n",
        "    vol_fno_df = interpolate_by_time(vol_fno_df, int)\n",
        "    vol_fno_df = vol_fno_df[sorted(vol_fno_df.columns)]\n",
        "    vol_fno_df = vol_fno_df.T.rolling(window=1, min_periods=1).sum().T\n",
        "    vol_fno_df = vol_fno_df.astype(int)\n",
        "    vol_fno_df = vol_fno_df[sorted(TIME_INTERVALS_STR)]\n",
        "    vol_fno_df = vol_fno_df.copy()\n",
        "\n",
        "    # Build Close Price df\n",
        "    price_fno_df = build_attr_df_from_df_dict(\"Close\", df_dict)\n",
        "    price_fno_df = price_fno_df.T\n",
        "    price_fno_df = price_fno_df[sorted(price_fno_df.columns)]\n",
        "    price_fno_df = interpolate_by_time(price_fno_df, float)\n",
        "    price_fno_df = price_fno_df[sorted(TIME_INTERVALS_STR)]\n",
        "    price_fno_df = price_fno_df.copy()\n",
        "\n",
        "    # Build Open Price df\n",
        "    price_open_fno_df = build_attr_df_from_df_dict(\"Open\", df_dict)\n",
        "    price_open_fno_df = price_open_fno_df.T\n",
        "    price_open_fno_df = price_open_fno_df[sorted(price_open_fno_df.columns)]\n",
        "    price_open_fno_df = interpolate_by_time(price_open_fno_df, float)\n",
        "    price_open_fno_df = price_open_fno_df[sorted(TIME_INTERVALS_STR)]\n",
        "    price_open_fno_df = price_open_fno_df.copy()\n",
        "\n",
        "    # Build High Price df\n",
        "    price_high_fno_df = build_attr_df_from_df_dict(\"High\", df_dict)\n",
        "    price_high_fno_df = price_high_fno_df.T\n",
        "    price_high_fno_df = price_high_fno_df[sorted(price_high_fno_df.columns)]\n",
        "    price_high_fno_df = interpolate_by_time(price_high_fno_df, float)\n",
        "    price_high_fno_df = price_high_fno_df[sorted(TIME_INTERVALS_STR)]\n",
        "    price_high_fno_df = price_high_fno_df.copy()\n",
        "\n",
        "    # Build Low Price df\n",
        "    price_low_fno_df = build_attr_df_from_df_dict(\"Low\", df_dict)\n",
        "    price_low_fno_df = price_low_fno_df.T\n",
        "    price_low_fno_df = price_low_fno_df[sorted(price_low_fno_df.columns)]\n",
        "    price_low_fno_df = interpolate_by_time(price_low_fno_df, float)\n",
        "    price_low_fno_df = price_low_fno_df[sorted(TIME_INTERVALS_STR)]\n",
        "    price_low_fno_df = price_low_fno_df.copy()\n",
        "\n",
        "    return oi_fno_df, vol_fno_df, price_fno_df, price_open_fno_df, price_high_fno_df, price_low_fno_df"
      ]
    },
    {
      "cell_type": "code",
      "execution_count": null,
      "metadata": {
        "id": "-DwJiOKiH26F"
      },
      "outputs": [],
      "source": [
        "def build_idx_df(df_dict):\n",
        "    attr_df = build_attr_df_from_df_dict(\"Close\", df_dict)\n",
        "\n",
        "    # Build SPOT df\n",
        "    spot_df = attr_df[[\"NIFTY\"]].copy()\n",
        "    spot_df = spot_df.T\n",
        "    spot_df = spot_df[sorted(spot_df.columns)]\n",
        "    spot_df = interpolate_by_time(spot_df, float)\n",
        "    spot_df = spot_df[sorted(TIME_INTERVALS_STR)]\n",
        "    spot_df = spot_df.copy()\n",
        "\n",
        "    # Build VIX df\n",
        "    vix_df = None\n",
        "    if PLOT_MODE not in [\"DOWNLOAD_LIVE_CHARTS\", \"OPT_LIVE\", \"NIFTY_LIVE\"]:\n",
        "        vix_df = attr_df[[\"VIX\"]]\n",
        "        vix_df = vix_df.T\n",
        "        vix_df = vix_df[sorted(vix_df.columns)]\n",
        "        vix_df = interpolate_by_time(vix_df, float)\n",
        "        vix_df = vix_df[sorted(TIME_INTERVALS_STR)]\n",
        "        vix_df = vix_df.copy()\n",
        "\n",
        "    return spot_df, vix_df"
      ]
    },
    {
      "cell_type": "code",
      "execution_count": null,
      "metadata": {
        "id": "D735WNw23Uyd"
      },
      "outputs": [],
      "source": [
        "def call_chartiq_api(url, retry=False):\n",
        "    try:\n",
        "        response = requests.get(url, headers=CHARTIQ_HEADERS, timeout=10)\n",
        "        if not response.ok:\n",
        "            print(f\"ERROR: {url} failed with status code {response.status_code} and body {response.text}\")\n",
        "            response.raise_for_status()\n",
        "        response_json = json.loads(response.text)\n",
        "        if response_json[\"status\"] != \"success\":\n",
        "            raise ValueError(f\"{url} failed\")\n",
        "        return response_json[\"data\"][\"candles\"]\n",
        "    except (requests.ReadTimeout, json.JSONDecodeError) as e:\n",
        "        if retry:\n",
        "            print(\"Retrying after 5 sec...\")\n",
        "            time.sleep(5)\n",
        "            return call_chartiq_api(url, retry=False)\n",
        "        else:\n",
        "            raise e\n",
        "#\n",
        "\n",
        "def call_instruments_api(retry=False):\n",
        "    try:\n",
        "        response = requests.get(INSTRUMENTS_URL, timeout=10)\n",
        "        if not response.ok:\n",
        "            print(f\"ERROR: {INSTRUMENTS_URL} failed with status code {response.status_code} and body {response.text}\")\n",
        "            response.raise_for_status()\n",
        "        instruments_df = pd.read_csv(io.StringIO(response.text), header=0)\n",
        "        # README: In case of failure, download the file using command in cell below.\n",
        "        # instruments_df = pd.read_csv('/content/instruments.csv', header=0)\n",
        "        return instruments_df\n",
        "    except (requests.ReadTimeout, json.JSONDecodeError) as e:\n",
        "        if retry:\n",
        "            print(\"Retrying after 5 sec...\")\n",
        "            time.sleep(5)\n",
        "            return call_instruments_api(retry=False)\n",
        "        else:\n",
        "            raise e\n",
        "#"
      ]
    },
    {
      "cell_type": "code",
      "execution_count": null,
      "metadata": {
        "id": "iC4UuEtNjNSj"
      },
      "outputs": [],
      "source": [
        "# README: In case of failure, download the file using this command.\n",
        "# !wget https://api.kite.trade/instruments -O /content/instruments.csv"
      ]
    },
    {
      "cell_type": "markdown",
      "metadata": {
        "id": "f7efa8ec"
      },
      "source": [
        "# Analysis"
      ]
    },
    {
      "cell_type": "markdown",
      "metadata": {
        "id": "t7CpWEppMJpw"
      },
      "source": [
        "## Data Load"
      ]
    },
    {
      "cell_type": "code",
      "execution_count": null,
      "metadata": {
        "id": "ZTB_Q9DMNFSv"
      },
      "outputs": [],
      "source": [
        "def download_n_save_data():\n",
        "    global spot_df, vix_df, \\\n",
        "    oi_opt_df, vol_opt_df, price_opt_df, price_open_opt_df, price_high_opt_df, price_low_opt_df, \\\n",
        "    tto_opt_df, nt_opt_df, iv_nr_df, prem_decay_df, \\\n",
        "    oi_fut_df, vol_fut_df, price_fut_df, price_open_fut_df, price_high_fut_df, price_low_fut_df\n",
        "\n",
        "    exist_ok = False\n",
        "    if PLOT_MODE in [\"DOWNLOAD_LIVE_CHARTS\"]:\n",
        "        exist_ok=True\n",
        "    pathlib.Path(CHARTIQ_DATA_TODAY_PATH).mkdir(parents=True, exist_ok=exist_ok)\n",
        "\n",
        "    instruments_df = call_instruments_api(retry=True)\n",
        "\n",
        "    # set_current_week_option_expiry_date(instruments_df)\n",
        "\n",
        "    # Download, save, and parse Index data from API\n",
        "    index_instruments = [\"NIFTY 50\", \"INDIA VIX\"]\n",
        "    if PLOT_MODE in [\"DOWNLOAD_LIVE_CHARTS\"]:\n",
        "        index_instruments = [\"NIFTY 50\"]\n",
        "    idx_instruments_df = instruments_df[(instruments_df[\"exchange\"] == \"NSE\") & (instruments_df[\"segment\"] == \"INDICES\") & (instruments_df[\"name\"].isin(index_instruments))][[\"name\", \"instrument_token\"]]\n",
        "    idx_df_map = download_index_data(idx_instruments_df)\n",
        "    spot_df, vix_df = build_idx_df(idx_df_map)\n",
        "\n",
        "    opt_instruments_df, fut_instruments_df = get_fno_instruments(instruments_df, spot_df)\n",
        "\n",
        "    # Options data\n",
        "    opt_df_map = download_options_data(opt_instruments_df)\n",
        "    oi_opt_df, vol_opt_df, price_opt_df, price_open_opt_df, price_high_opt_df, price_low_opt_df = build_fno_stk_df(opt_df_map)\n",
        "    tto_opt_df = vol_opt_df * (price_open_opt_df + price_high_opt_df + price_low_opt_df + price_opt_df) / 4\n",
        "\n",
        "    # Futures data\n",
        "    if not PLOT_MODE in [\"DOWNLOAD_LIVE_CHARTS\"]:\n",
        "        fut_df_map = download_futures_data(fut_instruments_df)\n",
        "        oi_fut_df, vol_fut_df, price_fut_df, price_open_fut_df, price_high_fut_df, price_low_fut_df = build_fno_stk_df(fut_df_map)\n",
        "        tto_fut_df = vol_fut_df * (price_open_fut_df + price_high_fut_df + price_low_fut_df + price_fut_df) / 4\n",
        "#\n",
        "\n",
        "def set_current_week_option_expiry_date(instruments_df):\n",
        "    opt_expiry_date_df = instruments_df[\n",
        "        (instruments_df[\"segment\"]==\"NFO-OPT\")\n",
        "        & (instruments_df[\"name\"]==\"NIFTY\")\n",
        "    ][[\"expiry\"]]\n",
        "    opt_expiry_date_df = opt_expiry_date_df.drop_duplicates()\n",
        "    opt_expiry_date_df[\"days_to_expiry\"] = opt_expiry_date_df.apply(lambda x: (datetime.datetime.strptime(x.expiry, \"%Y-%m-%d\").date() - datetime.datetime(YYYY, MM, DD).date()).days + 1, axis=1)\n",
        "    opt_expiry_date_df = opt_expiry_date_df[(opt_expiry_date_df[\"days_to_expiry\"] >= 1) & (opt_expiry_date_df[\"days_to_expiry\"] <= 7)]\n",
        "    opt_expiry_date_df = opt_expiry_date_df.sort_values(\"expiry\", ascending=True)[:1]\n",
        "    global OPT_EXPIRY_DATE\n",
        "    OPT_EXPIRY_DATE = opt_expiry_date_df[\"expiry\"].values[0]\n",
        "#\n",
        "\n",
        "def get_fno_instruments(instruments_df, spot_df):\n",
        "    min_strike = int(spot_df.T[\"NIFTY\"].min() / 100) * 100\n",
        "    max_strike = int((spot_df.T[\"NIFTY\"].max() / 100) + 1) * 100\n",
        "    ce_strikes = [s for s in range(min_strike - 700, max_strike + 800, 100)]\n",
        "    pe_strikes = [s for s in range(min_strike - 700, max_strike + 800, 100)]\n",
        "    if PLOT_MODE == \"DOWNLOAD_LIVE_CHARTS\":\n",
        "        ce_strikes = [s for s in range(min_strike - 200, max_strike + 100, 100)] + [int(s.replace(\"_Call\", \"\")) for s in LIVE_CHARTS_FII_STRIKES if \"00_Call\" in s]\n",
        "        pe_strikes = [s for s in range(min_strike - 100, max_strike + 200, 100)] + [int(s.replace(\"_Put\", \"\")) for s in LIVE_CHARTS_FII_STRIKES if \"00_Put\" in s]\n",
        "\n",
        "    ce_instruments_df = instruments_df[\n",
        "        (instruments_df[\"exchange\"]==\"NFO\")\n",
        "        & (instruments_df[\"instrument_type\"]==\"CE\")\n",
        "        & (instruments_df[\"name\"]==\"NIFTY\")\n",
        "        & (instruments_df[\"expiry\"]==OPT_EXPIRY_DATE)\n",
        "        & (instruments_df[\"strike\"].isin(ce_strikes))\n",
        "    ][[\"strike\", \"instrument_token\"]]\n",
        "    ce_instruments_df[\"strike\"] = ce_instruments_df.apply(lambda x: str(x.strike.astype(int)) + \"_Call\", axis=1)\n",
        "\n",
        "    pe_instruments_df = instruments_df[\n",
        "        (instruments_df[\"exchange\"]==\"NFO\")\n",
        "        & (instruments_df[\"instrument_type\"]==\"PE\")\n",
        "        & (instruments_df[\"name\"]==\"NIFTY\")\n",
        "        & (instruments_df[\"expiry\"]==OPT_EXPIRY_DATE)\n",
        "        & (instruments_df[\"strike\"].isin(pe_strikes))\n",
        "    ][[\"strike\", \"instrument_token\"]]\n",
        "    pe_instruments_df[\"strike\"] = pe_instruments_df.apply(lambda x: str(x.strike.astype(int)) + \"_Put\", axis=1)\n",
        "\n",
        "    opt_instruments_df = pd.concat([pe_instruments_df, ce_instruments_df])\n",
        "\n",
        "    fut_instruments_df = instruments_df[\n",
        "        (instruments_df[\"exchange\"]==\"NFO\")\n",
        "        & (instruments_df[\"instrument_type\"]==\"FUT\")\n",
        "        & (instruments_df[\"name\"]==\"NIFTY\")\n",
        "    ][[\"expiry\", \"instrument_token\"]]\n",
        "    fut_instruments_df[\"expiry\"] = fut_instruments_df.apply(lambda x: calendar.month_abbr[datetime.datetime.strptime(x.expiry, \"%Y-%m-%d\").date().month].upper() + \"_Future\", axis=1)\n",
        "    if PLOT_MODE == \"DOWNLOAD_LIVE_CHARTS\":\n",
        "        fut_instruments_df = pd.DataFrame()\n",
        "\n",
        "    return opt_instruments_df, fut_instruments_df"
      ]
    },
    {
      "cell_type": "code",
      "execution_count": null,
      "metadata": {
        "id": "-t7sEj1YAQRv"
      },
      "outputs": [],
      "source": [
        "def build_dataframes():\n",
        "    global spot_df, vix_df, \\\n",
        "    oi_opt_df, vol_opt_df, price_opt_df, price_open_opt_df, price_high_opt_df, price_low_opt_df, \\\n",
        "    tto_opt_df, nt_opt_df, iv_nr_df, prem_decay_df, \\\n",
        "    oi_fut_df, vol_fut_df, price_fut_df, price_open_fut_df, price_high_fut_df, price_low_fut_df\n",
        "\n",
        "    # Parse index data from files\n",
        "    idx_df_map = parse_index_data(CHARTIQ_DATA_TODAY_PATH)\n",
        "    spot_df, vix_df = build_idx_df(idx_df_map)\n",
        "\n",
        "    # Parse options data from files\n",
        "    opt_df_map = parse_options_data(CHARTIQ_DATA_TODAY_PATH)\n",
        "    oi_opt_df, vol_opt_df, price_opt_df, price_open_opt_df, price_high_opt_df, price_low_opt_df = build_fno_stk_df(opt_df_map)\n",
        "    tto_opt_df = vol_opt_df * (price_open_opt_df + price_high_opt_df + price_low_opt_df + price_opt_df) / 4\n",
        "    # nt_opt_df = (vol_opt_df * 4 / (price_open_opt_df + price_high_opt_df + price_low_opt_df + price_opt_df)).astype(int)\n",
        "    # iv_nr_df = compute_iv_using_bf(spot_df=spot_df, price_df=price_opt_df, vix_df=vix_df) * 100\n",
        "    # Use prem decay only for relative comparison among diff strikes of Call and Put. Not to be used for single strike.\n",
        "    prem_decay_df = get_premium_decay(spot_df=spot_df, price_df=price_opt_df)\n",
        "\n",
        "    # Parse futures data from files\n",
        "    fut_df_map = parse_futures_data(CHARTIQ_DATA_TODAY_PATH)\n",
        "    oi_fut_df, vol_fut_df, price_fut_df, price_open_fut_df, price_high_fut_df, price_low_fut_df = build_fno_stk_df(fut_df_map)\n",
        "    tto_fut_df = vol_fut_df * (price_open_fut_df + price_high_fut_df + price_low_fut_df + price_fut_df) / 4"
      ]
    },
    {
      "cell_type": "markdown",
      "metadata": {
        "id": "cR1I9ejunlvt"
      },
      "source": [
        "## Plot Strikes"
      ]
    },
    {
      "cell_type": "code",
      "execution_count": null,
      "metadata": {
        "id": "fV3v5YbLtIqe"
      },
      "outputs": [],
      "source": [
        "def plot_strikes(strikes, save_filepath=None):\n",
        "    ohlcv_map = {\n",
        "        \"O\" : price_open_opt_df,\n",
        "        \"H\" : price_high_opt_df,\n",
        "        \"L\" : price_low_opt_df,\n",
        "        \"C\" : price_opt_df,\n",
        "        \"V\" : vol_opt_df,\n",
        "    }\n",
        "    nrows = 3\n",
        "    ncols = len(strikes)\n",
        "    if END_HH - START_HH >= 5:\n",
        "        w = 20 * ncols\n",
        "        h = 8 * nrows\n",
        "    else:\n",
        "        w = 10 * ncols\n",
        "        h = 6 * nrows\n",
        "    fig, axs = plt.subplots(nrows=nrows, ncols=len(strikes), figsize=(w, h))\n",
        "    if len(strikes) == 1:\n",
        "        axs = axs.reshape(len(axs),1)\n",
        "    for s in range(0, len(strikes)):\n",
        "        r = 0\n",
        "        style = {**{s:\"red\" if \"_Call\" in s else \"green\" for s in strikes}, \"NIFTY\": \"black\"}\n",
        "        plot_x_diff(oi_opt_df, include_strikes=[strikes[s]], ax=axs[r, s], title=\"OI\", style=style, kind=\"bar\")\n",
        "        r = r + 1\n",
        "        plot_df(vol_opt_df.T[[strikes[s]]], ax=axs[r, s], title=\"VOL\", style=style, kind=\"bar\")\n",
        "        r = r + 1\n",
        "        plot_x_roc(price_opt_df, include_strikes=[strikes[s]], ax=axs[r, s], title=\"Premium\", style=style)\n",
        "        # r = r + 1\n",
        "        # plot_x_roc(iv_nr_df, include_strikes=[strikes[s]], ax=axs[r, s], title=\"IV by NR\", style=style)\n",
        "        # r = r + 1\n",
        "        # plot_df(compute_money_flow_ohlcv([strikes[s]], ohlcv_map), ax=axs[r, s], title=\"Money Flow\", style=style)\n",
        "        # r = r + 1\n",
        "    if save_filepath:\n",
        "        plt.savefig(save_filepath, bbox_inches=\"tight\")\n",
        "        plt.close(fig)\n",
        "#\n",
        "\n",
        "def plot_futures(expiries, save_filepath=None):\n",
        "    ohlcv_map = {\n",
        "        \"O\" : price_open_fut_df,\n",
        "        \"H\" : price_high_fut_df,\n",
        "        \"L\" : price_low_fut_df,\n",
        "        \"C\" : price_fut_df,\n",
        "        \"V\" : vol_fut_df,\n",
        "    }\n",
        "    nrows = 3\n",
        "    ncols = len(expiries)\n",
        "    if END_HH - START_HH >= 5:\n",
        "        w = 20 * ncols\n",
        "        h = 8 * nrows\n",
        "    else:\n",
        "        w = 10 * ncols\n",
        "        h = 6 * nrows\n",
        "    fig, axs = plt.subplots(nrows=nrows, ncols=len(expiries), figsize=(w, h))\n",
        "    if len(expiries) == 1:\n",
        "        axs = axs.reshape(len(axs),1)\n",
        "    for s in range(0, len(expiries)):\n",
        "        r = 0\n",
        "        style = {**{e:\"blue\" for e in expiries}, \"NIFTY\": \"black\"}\n",
        "        plot_x_diff(oi_fut_df, include_strikes=[expiries[s]], ax=axs[r, s], title=\"OI\", style=style, kind=\"bar\")\n",
        "        r = r + 1\n",
        "        plot_df(vol_fut_df.T[[expiries[s]]], ax=axs[r, s], title=\"VOL\", style=style, kind=\"bar\")\n",
        "        r = r + 1\n",
        "        plot_x_roc(price_fut_df, include_strikes=[expiries[s]], ax=axs[r, s], title=\"Premium\", style=style, plot_spot=True)\n",
        "        # r = r + 1\n",
        "        # plot_df(compute_money_flow_ohlcv([expiries[s]], ohlcv_map), ax=axs[r, s], title=\"Money Flow\", style=style)\n",
        "        # r = r + 1\n",
        "    if save_filepath:\n",
        "        plt.savefig(save_filepath, bbox_inches=\"tight\")\n",
        "        plt.close(fig)\n",
        "#\n",
        "\n",
        "def plot_individual_strikes(strikes, save_filepath=None):\n",
        "    ohlcv_map = {\n",
        "        \"O\" : price_open_opt_df,\n",
        "        \"H\" : price_high_opt_df,\n",
        "        \"L\" : price_low_opt_df,\n",
        "        \"C\" : price_opt_df,\n",
        "        \"V\" : vol_opt_df,\n",
        "    }\n",
        "    nrows = 3\n",
        "    w = 30\n",
        "    h = 18\n",
        "    for s in range(0, len(strikes)):\n",
        "        fig, axs = plt.subplots(nrows=nrows, ncols=1, figsize=(w, h))\n",
        "        r = 0\n",
        "        style = {**{s:\"red\" if \"_Call\" in s else \"green\" for s in strikes}, \"NIFTY\": \"black\"}\n",
        "        plot_x_diff(oi_opt_df/1000, include_strikes=[strikes[s]], ax=axs[r], title=\"Change in OI - ROC\", style=style, kind=\"bar\")\n",
        "        r = r + 1\n",
        "        # plot_df(vol_opt_df.T[[strikes[s]]], ax=axs[r], title=\"VOL\", style=style, kind=\"bar\")\n",
        "        plot_x_roc(oi_opt_df/1000, include_strikes=[strikes[s]], ax=axs[r], title=\"Change in OI\", style=style, kind=\"bar\")\n",
        "        r = r + 1\n",
        "        sr_arr = [price_opt_df.loc[strikes[s]].copy(), spot_df.T.copy()]\n",
        "        price_opt_spot_df = pd.concat(sr_arr, axis=1)\n",
        "        plot_df(price_opt_spot_df, plot_spot=True, ax=axs[r], title=\"Premium vs Spot\", style=style)\n",
        "        # plot_x_roc(price_opt_spot_df.T, include_strikes=[strikes[s]], ax=axs[r], title=\"Premium vs Spot\", style=style, plot_spot=True)\n",
        "        # plot_x_roc(price_opt_df, include_strikes=[strikes[s]], ax=axs[r], title=\"Premium\", style=style)\n",
        "        # plot_df(compute_money_flow_ohlcv([strikes[s]], ohlcv_map), ax=axs[r], title=\"Money Flow\", style=style)\n",
        "        # plot_x_roc(prem_decay_df, include_strikes=[strikes[s]], ax=axs[r], title=\"Premium Decay\", style=style)\n",
        "        if save_filepath:\n",
        "            plt.savefig(f\"{save_filepath}/{strikes[s]}.png\", bbox_inches=\"tight\")\n",
        "            plt.close(fig)\n",
        "#\n",
        "\n",
        "def plot_individual_futures(expiries, save_filepath=None):\n",
        "    ohlcv_map = {\n",
        "        \"O\" : price_open_fut_df,\n",
        "        \"H\" : price_high_fut_df,\n",
        "        \"L\" : price_low_fut_df,\n",
        "        \"C\" : price_fut_df,\n",
        "        \"V\" : vol_fut_df,\n",
        "    }\n",
        "    nrows = 2\n",
        "    w = 30\n",
        "    h = 18\n",
        "    for s in range(0, len(expiries)):\n",
        "        fig, axs = plt.subplots(nrows=nrows, ncols=1, figsize=(w, h))\n",
        "        r = 0\n",
        "        style = {**{e:\"blue\" for e in expiries}, \"NIFTY\": \"black\"}\n",
        "        plot_x_diff(oi_fut_df/1000, include_strikes=[expiries[s]], ax=axs[r], title=\"OI\", style=style, kind=\"bar\")\n",
        "        # r = r + 1\n",
        "        # plot_df(vol_fut_df.T[[expiries[s]]], ax=axs[r], title=\"VOL\", style=style, kind=\"bar\")\n",
        "        r = r + 1\n",
        "        sr_arr = [price_fut_df.loc[expiries[s]].copy(), spot_df.T.copy()]\n",
        "        price_fut_spot_df = pd.concat(sr_arr, axis=1)\n",
        "        plot_df(price_fut_spot_df, plot_spot=True, ax=axs[r], title=\"Premium vs Spot\", style=style)\n",
        "        # plot_x_roc(price_fut_spot_df.T, include_strikes=[expiries[s]], ax=axs[r], title=\"Premium vs Spot\", style=style, plot_spot=True)\n",
        "        # plot_x_roc(price_fut_df, include_strikes=[expiries[s]], ax=axs[r], title=\"Premium\", style=style)\n",
        "        # plot_df(compute_money_flow_ohlcv([expiries[s]], ohlcv_map), ax=axs[r], title=\"Money Flow\", style=style)\n",
        "        if save_filepath:\n",
        "            plt.savefig(f\"{save_filepath}/{expiries[s]}.png\", bbox_inches=\"tight\")\n",
        "            plt.close(fig)"
      ]
    },
    {
      "cell_type": "markdown",
      "metadata": {
        "id": "zBEOYT_jK9A9"
      },
      "source": [
        "## Show Charts"
      ]
    },
    {
      "cell_type": "code",
      "execution_count": null,
      "metadata": {
        "id": "sWiYmhkgWFvp"
      },
      "outputs": [],
      "source": [
        "# if PLOT_MODE == \"SHOW_CHARTS\":\n",
        "#     build_dataframes()"
      ]
    },
    {
      "cell_type": "markdown",
      "metadata": {
        "id": "AYBzgGNn1ona"
      },
      "source": [
        "### Call"
      ]
    },
    {
      "cell_type": "code",
      "execution_count": null,
      "metadata": {
        "id": "puRtJSrk465b"
      },
      "outputs": [],
      "source": [
        "# if PLOT_MODE == \"SHOW_CHARTS\":\n",
        "#     call_strikes = sorted([s for s in OPT_STRIKES if \"00_Call\" in s], reverse=True)\n",
        "#     plot_strikes(call_strikes)"
      ]
    },
    {
      "cell_type": "markdown",
      "metadata": {
        "id": "DBGjP5YJ1rcL"
      },
      "source": [
        "### Put"
      ]
    },
    {
      "cell_type": "code",
      "execution_count": null,
      "metadata": {
        "id": "q8wwg20v5G7d"
      },
      "outputs": [],
      "source": [
        "# if PLOT_MODE == \"SHOW_CHARTS\":\n",
        "#     put_strikes = sorted([s for s in OPT_STRIKES if \"00_Put\" in s], reverse=False)\n",
        "#     plot_strikes(put_strikes)"
      ]
    },
    {
      "cell_type": "markdown",
      "metadata": {
        "id": "4fFe-o6NVVJp"
      },
      "source": [
        "### Futures"
      ]
    },
    {
      "cell_type": "code",
      "execution_count": null,
      "metadata": {
        "id": "YIoIS9aJVkpo"
      },
      "outputs": [],
      "source": [
        "# if PLOT_MODE == \"SHOW_CHARTS\":\n",
        "#     plot_futures(FUT_EXPIRIES)"
      ]
    },
    {
      "cell_type": "markdown",
      "metadata": {
        "id": "4xGC1_1Fwuaf"
      },
      "source": [
        "## Save Charts"
      ]
    },
    {
      "cell_type": "code",
      "source": [
        "!mkdir -p downloads"
      ],
      "metadata": {
        "id": "2VYMLU3Lw_Hr"
      },
      "execution_count": null,
      "outputs": []
    },
    {
      "cell_type": "code",
      "execution_count": null,
      "metadata": {
        "id": "qAGaZ2A05H2j"
      },
      "outputs": [],
      "source": [
        "!mkdir -p plots"
      ]
    },
    {
      "cell_type": "code",
      "source": [
        "!rm -f downloads/*"
      ],
      "metadata": {
        "id": "56W9-NaZxCAc"
      },
      "execution_count": null,
      "outputs": []
    },
    {
      "cell_type": "code",
      "execution_count": null,
      "metadata": {
        "id": "poN7rIVKvaAM"
      },
      "outputs": [],
      "source": [
        "!rm -f plots/*"
      ]
    },
    {
      "cell_type": "code",
      "source": [
        "if PLOT_MODE == \"DOWNLOAD_LIVE_CHARTS\":\n",
        "    CHARTIQ_DATA_TODAY_PATH = \"downloads\"\n",
        "    OPT_EXPIRY_DATE = WK_OPT_EXPIRY_DATE\n",
        "    download_n_save_data()\n",
        "    spot_min = int(spot_df.T[\"NIFTY\"].min())\n",
        "    spot_max = int(spot_df.T[\"NIFTY\"].max())\n",
        "    call_strikes = [int(s.replace(\"_Call\", \"\")) for s in OPT_STRIKES if \"00_Call\" in s]\n",
        "    call_strikes = [f\"{s}_Call\" for s in call_strikes if s >= spot_min - 200 and s <= spot_max + 100]\n",
        "    call_strikes = sorted(call_strikes + [s for s in LIVE_CHARTS_FII_STRIKES if \"00_Call\" in s and s not in call_strikes], reverse=True)\n",
        "    put_strikes = [int(s.replace(\"_Put\", \"\")) for s in OPT_STRIKES if \"00_Put\" in s]\n",
        "    put_strikes = [f\"{s}_Put\" for s in put_strikes if s >= spot_min - 100 and s <= spot_max + 200]\n",
        "    put_strikes = sorted(put_strikes + [s for s in LIVE_CHARTS_FII_STRIKES if \"00_Put\" in s and s not in put_strikes], reverse=False)\n",
        "    save_filepath = \"plots\"\n",
        "    plot_individual_strikes(call_strikes, save_filepath)\n",
        "    plot_individual_strikes(put_strikes, save_filepath)"
      ],
      "metadata": {
        "id": "wxnQUSSlgRrI"
      },
      "execution_count": null,
      "outputs": []
    },
    {
      "cell_type": "code",
      "execution_count": null,
      "metadata": {
        "id": "lNGEQKn2K0yS"
      },
      "outputs": [],
      "source": [
        "if PLOT_MODE == \"DOWNLOAD_CHARTS\":\n",
        "    CHARTIQ_DATA_TODAY_PATH = f\"{CHARTIQ_DATA_DIR}/{YYYY:04}/{MM:02}/{DD:02}\"\n",
        "    OPT_EXPIRY_DATE = WK_OPT_EXPIRY_DATE\n",
        "    download_n_save_data()"
      ]
    },
    {
      "cell_type": "code",
      "execution_count": null,
      "metadata": {
        "id": "aLZaJ-Vvuy40"
      },
      "outputs": [],
      "source": [
        "if PLOT_MODE == \"PLOT_CHARTS\":\n",
        "    CHARTIQ_DATA_TODAY_PATH = f\"{CHARTIQ_DATA_DIR}/{YYYY:04}/{MM:02}/{DD:02}\"\n",
        "    build_dataframes()\n",
        "    spot_min = int(spot_df.T[\"NIFTY\"].min())\n",
        "    spot_max = int(spot_df.T[\"NIFTY\"].max())\n",
        "    call_strikes = sorted([int(s.replace(\"_Call\", \"\")) for s in OPT_STRIKES if \"00_Call\" in s], reverse=True)\n",
        "    call_strikes = sorted([f\"{s}_Call\" for s in call_strikes if s >= spot_min - 500 and s <= spot_max + 500], reverse=True)\n",
        "    put_strikes = sorted([int(s.replace(\"_Put\", \"\")) for s in OPT_STRIKES if \"00_Put\" in s], reverse=False)\n",
        "    put_strikes = sorted([f\"{s}_Put\" for s in put_strikes if s >= spot_min - 500 and s <= spot_max + 500], reverse=False)\n",
        "    save_filepath = \"plots\"\n",
        "    plot_individual_strikes(call_strikes, save_filepath)\n",
        "    plot_individual_strikes(put_strikes, save_filepath)\n",
        "    plot_individual_futures(FUT_EXPIRIES, save_filepath)"
      ]
    },
    {
      "cell_type": "code",
      "execution_count": null,
      "metadata": {
        "id": "iV7niy9PAMQG"
      },
      "outputs": [],
      "source": [
        "!rm -f plots.zip"
      ]
    },
    {
      "cell_type": "code",
      "execution_count": null,
      "metadata": {
        "id": "AERGJ24fgS5Z"
      },
      "outputs": [],
      "source": [
        "!zip -rq plots.zip plots"
      ]
    },
    {
      "cell_type": "markdown",
      "metadata": {
        "id": "h1C9JshINSol"
      },
      "source": [
        "## Options OI / Moneyflow"
      ]
    },
    {
      "cell_type": "code",
      "execution_count": null,
      "metadata": {
        "id": "hnCU54SFDUHr"
      },
      "outputs": [],
      "source": [
        "if PLOT_MODE == \"OPT_LIVE\":\n",
        "    CHARTIQ_DATA_TODAY_PATH = f\"{CHARTIQ_DATA_DIR}/{YYYY:04}/{MM:02}/{DD:02}\"\n",
        "    opt_df_map = download_options_live_data()\n",
        "    oi_opt_df, vol_opt_df, price_opt_df, price_open_opt_df, price_high_opt_df, price_low_opt_df = build_fno_stk_df(opt_df_map)\n",
        "\n",
        "if PLOT_MODE == \"SHOW_CHARTS\":\n",
        "    CHARTIQ_DATA_TODAY_PATH = f\"{CHARTIQ_DATA_DIR}/{YYYY:04}/{MM:02}/{DD:02}\"\n",
        "    build_dataframes()"
      ]
    },
    {
      "cell_type": "code",
      "execution_count": null,
      "metadata": {
        "id": "KFJNsPSqoEe-"
      },
      "outputs": [],
      "source": [
        "if PLOT_MODE == \"OPT_LIVE\":\n",
        "    call_strikes = sorted([s for s in OPT_STRIKES if \"00_Call\" in s], reverse=True)\n",
        "    put_strikes = sorted([s for s in OPT_STRIKES if \"00_Put\" in s], reverse=False)\n",
        "\n",
        "if PLOT_MODE == \"SHOW_CHARTS\":\n",
        "    call_strikes = [\"24100_Call\", \"24300_Call\", \"24200_Call\"] # decreasing order\n",
        "    put_strikes = [\"24200_Put\", \"24300_Put\", \"24400_Put\"] # increasing order"
      ]
    },
    {
      "cell_type": "code",
      "execution_count": null,
      "metadata": {
        "id": "baMb_o0U5-v8"
      },
      "outputs": [],
      "source": [
        "# # Intraday individual ATM strikes MoneyFlow\n",
        "# strikes = call_strikes + put_strikes\n",
        "# ohlcv_map = {\n",
        "#     \"O\" : price_open_opt_df,\n",
        "#     \"H\" : price_high_opt_df,\n",
        "#     \"L\" : price_low_opt_df,\n",
        "#     \"C\" : price_opt_df,\n",
        "#     \"V\" : vol_opt_df,\n",
        "# }\n",
        "# style = {**{s:\"red\" if \"_Call\" in s else \"green\" for s in strikes}}\n",
        "# nrows = 3\n",
        "# ncols = 2\n",
        "# fig, axs = plt.subplots(nrows=nrows, ncols=ncols, figsize=(20*ncols, 8*nrows))\n",
        "# r = 0\n",
        "# plot_df(compute_money_flow_ohlcv([call_strikes[r]], ohlcv_map), ax=axs[r, 0], title=\"Money Flow\", style=style)\n",
        "# plot_df(compute_money_flow_ohlcv([put_strikes[r]], ohlcv_map), ax=axs[r, 1], title=\"Money Flow\", style=style)\n",
        "# r = r + 1\n",
        "# plot_df(compute_money_flow_ohlcv([call_strikes[r]], ohlcv_map), ax=axs[r, 0], title=\"Money Flow\", style=style)\n",
        "# plot_df(compute_money_flow_ohlcv([put_strikes[r]], ohlcv_map), ax=axs[r, 1], title=\"Money Flow\", style=style)\n",
        "# r = r + 1\n",
        "# plot_df(compute_money_flow_ohlcv([call_strikes[r]], ohlcv_map), ax=axs[r, 0], title=\"Money Flow\", style=style)\n",
        "# plot_df(compute_money_flow_ohlcv([put_strikes[r]], ohlcv_map), ax=axs[r, 1], title=\"Money Flow\", style=style)"
      ]
    },
    {
      "cell_type": "code",
      "execution_count": null,
      "metadata": {
        "id": "Ttcx1zrJfbZb"
      },
      "outputs": [],
      "source": [
        "# def plot_atm_net_moneyflow(save_filepath=None):\n",
        "#     ohlcv_map = {\n",
        "#         \"O\" : price_open_opt_df,\n",
        "#         \"H\" : price_high_opt_df,\n",
        "#         \"L\" : price_low_opt_df,\n",
        "#         \"C\" : price_opt_df,\n",
        "#         \"V\" : vol_opt_df,\n",
        "#     }\n",
        "#     # call_strikes = sorted([s for s in OPT_STRIKES if \"00_Call\" in s], reverse=True)\n",
        "#     # put_strikes = sorted([s for s in OPT_STRIKES if \"00_Put\" in s], reverse=False)\n",
        "#     w = 18\n",
        "#     h = 6\n",
        "#     fig, ax = plt.subplots(nrows=1, ncols=1, figsize=(w, h))\n",
        "#     atm_mf_df = compute_money_flow_ohlcv(call_strikes + put_strikes, ohlcv_map)\n",
        "#     # atm_mf_df = oi_opt_df.T[call_strikes + put_strikes].copy()\n",
        "#     atm_net_mf_df = atm_mf_df[call_strikes].sum(axis=1) - atm_mf_df[put_strikes].sum(axis=1)\n",
        "#     # atm_net_mf_df = atm_mf_df[put_strikes].sum(axis=1) - atm_mf_df[call_strikes].sum(axis=1)\n",
        "#     atm_net_mf_df = atm_net_mf_df.to_frame()\n",
        "#     atm_net_mf_df.columns = [\"MF\"]\n",
        "#     atm_net_mf_df[\"NIFTY\"] = spot_df.T\n",
        "#     style = {\"MF\": \"black\"}\n",
        "#     plot_df(atm_net_mf_df, ax=ax, title=\"ATM Money Flow\", plot_spot=True, style=style)\n",
        "#     if save_filepath:\n",
        "#         plt.savefig(save_filepath, bbox_inches=\"tight\")\n",
        "#         plt.close(fig)\n",
        "# #\n",
        "\n",
        "# if PLOT_MODE in (\"OPT_LIVE\", \"SHOW_CHARTS\"):\n",
        "#     plot_atm_net_moneyflow()"
      ]
    },
    {
      "cell_type": "code",
      "execution_count": null,
      "metadata": {
        "id": "9RaLS4FpW96Q"
      },
      "outputs": [],
      "source": [
        "# def plot_atm_net_oi(save_filepath=None):\n",
        "#     atm_oi_df = oi_opt_df.T[call_strikes + put_strikes].copy()\n",
        "#     atm_oi_df[\"Put\"] = atm_oi_df[put_strikes].sum(axis=1)\n",
        "#     atm_oi_df[\"Call\"] = atm_oi_df[call_strikes].sum(axis=1)\n",
        "#     atm_oi_df[\"NIFTY\"] = spot_df.T\n",
        "#     atm_oi_df = atm_oi_df.T\n",
        "#     w = 18\n",
        "#     h = 6\n",
        "#     fig, ax = plt.subplots(nrows=1, ncols=1, figsize=(w, h))\n",
        "#     style = {\"Put\": \"green\", \"Call\": \"red\"}\n",
        "#     plot_x_roc(atm_oi_df, include_strikes=[\"Call\", \"Put\"], ax=ax, title=\"ATM Net OI Trend\", plot_spot=True, style=style)\n",
        "#     if save_filepath:\n",
        "#         plt.savefig(save_filepath, bbox_inches=\"tight\")\n",
        "#         plt.close(fig)\n",
        "# #\n",
        "\n",
        "# if PLOT_MODE in (\"OPT_LIVE\", \"SHOW_CHARTS\"):\n",
        "#     plot_atm_net_oi()"
      ]
    },
    {
      "cell_type": "code",
      "execution_count": null,
      "metadata": {
        "id": "2kSrvu_xxd6C"
      },
      "outputs": [],
      "source": [
        "# def plot_individual_atm_strikes_oi(save_filepath=None):\n",
        "#     atm_oi_df = oi_opt_df.T[call_strikes + put_strikes].copy()\n",
        "#     atm_oi_df[\"NIFTY\"] = spot_df.T\n",
        "#     atm_oi_df = atm_oi_df.T\n",
        "#     w = 18\n",
        "#     h = 6\n",
        "#     fig, ax = plt.subplots(nrows=1, ncols=1, figsize=(w, h))\n",
        "#     style = {**{s:\"red\" for s in call_strikes}, **{s:\"green\" for s in put_strikes}, \"NIFTY\": \"--k\"}\n",
        "#     plot_x_roc(atm_oi_df, include_strikes=(call_strikes + put_strikes), ax=ax, title=\"ATM OI Trend\", plot_spot=True, style=style)\n",
        "#     if save_filepath:\n",
        "#         plt.savefig(save_filepath, bbox_inches=\"tight\")\n",
        "#         plt.close(fig)\n",
        "# #\n",
        "\n",
        "# if PLOT_MODE in (\"OPT_LIVE\", \"SHOW_CHARTS\"):\n",
        "#     plot_individual_atm_strikes_oi()"
      ]
    },
    {
      "cell_type": "code",
      "execution_count": null,
      "metadata": {
        "id": "-e5bDadWdwcL"
      },
      "outputs": [],
      "source": [
        "# def plot_atm_net_coi(save_filepath=None):\n",
        "#     atm_oi_df = oi_opt_df.T[call_strikes + put_strikes].copy()\n",
        "#     atm_net_coi_df = atm_oi_df[put_strikes].sum(axis=1) - atm_oi_df[call_strikes].sum(axis=1)\n",
        "#     atm_net_coi_df = atm_net_coi_df.to_frame()\n",
        "#     atm_net_coi_df.columns = [\"COI\"]\n",
        "#     atm_net_coi_df[\"NIFTY\"] = spot_df.T\n",
        "#     w = 18\n",
        "#     h = 6\n",
        "#     fig, ax = plt.subplots(nrows=1, ncols=1, figsize=(w, h))\n",
        "#     plot_df(atm_net_coi_df, ax=ax, title=\"ATM NET COI\", style={\"COI\": \"orange\"}, plot_spot=True, kind=\"bar\")\n",
        "#     if save_filepath:\n",
        "#         plt.savefig(save_filepath, bbox_inches=\"tight\")\n",
        "#         plt.close(fig)\n",
        "# #\n",
        "\n",
        "# if PLOT_MODE in (\"OPT_LIVE\", \"SHOW_CHARTS\"):\n",
        "#     plot_atm_net_coi()"
      ]
    },
    {
      "cell_type": "markdown",
      "metadata": {
        "id": "rsvcnPyUXkN3"
      },
      "source": [
        "## NIFTY Top 10 Moneyflow"
      ]
    },
    {
      "cell_type": "code",
      "execution_count": null,
      "metadata": {
        "id": "C9ph-a29XkN4"
      },
      "outputs": [],
      "source": [
        "if PLOT_MODE == \"NIFTY_LIVE\":\n",
        "    idx_df_map = download_index_data(NIFTY_INSTRUMENTS_DF)\n",
        "    spot_df, _ = build_idx_df(idx_df_map)\n",
        "    stk_df_map = download_nifty_top10_live_data()\n",
        "    _, vol_stk_df, price_close_stk_df, price_open_stk_df, price_high_stk_df, price_low_stk_df = build_fno_stk_df(stk_df_map, oi=False)"
      ]
    },
    {
      "cell_type": "code",
      "execution_count": null,
      "metadata": {
        "id": "1e0qplAMXkN4"
      },
      "outputs": [],
      "source": [
        "def plot_nifty_top10_moneyflow(save_filepath=None):\n",
        "    nifty_top10 = NIFTY_TOP10_INSTRUMENTS.keys()\n",
        "    w = 18\n",
        "    h = 6\n",
        "    fig, ax = plt.subplots(nrows=1, ncols=1, figsize=(w, h))\n",
        "    ohlcv_map = {\n",
        "        \"O\" : price_open_stk_df,\n",
        "        \"H\" : price_high_stk_df,\n",
        "        \"L\" : price_low_stk_df,\n",
        "        \"C\" : price_close_stk_df,\n",
        "        \"V\" : vol_stk_df,\n",
        "    }\n",
        "    mf_df = compute_money_flow_ohlcv(nifty_top10, ohlcv_map)\n",
        "    for symbol, instrument_map in NIFTY_TOP10_INSTRUMENTS.items():\n",
        "        mf_df[symbol] = mf_df[symbol] * instrument_map[\"weightage\"]\n",
        "    net_mf_df = mf_df[nifty_top10].sum(axis=1)\n",
        "    net_mf_df = net_mf_df.to_frame()\n",
        "    net_mf_df.columns = [\"MF\"]\n",
        "    net_mf_df[\"NIFTY\"] = spot_df.T\n",
        "    plot_df(net_mf_df, ax=ax, title=\"NIFTY Money Flow\", style={\"MF\": \"orange\"}, plot_spot=True, kind=\"bar\")\n",
        "    if save_filepath:\n",
        "        plt.savefig(save_filepath, bbox_inches=\"tight\")\n",
        "        plt.close(fig)\n",
        "#\n",
        "\n",
        "if PLOT_MODE == \"NIFTY_LIVE\":\n",
        "    plot_nifty_top10_moneyflow()"
      ]
    },
    {
      "cell_type": "markdown",
      "metadata": {
        "id": "AKCCQDkF1v5f"
      },
      "source": [
        "##Call vs Put"
      ]
    },
    {
      "cell_type": "code",
      "execution_count": null,
      "metadata": {
        "id": "6kkHHF3B_cJR"
      },
      "outputs": [],
      "source": [
        "# call_strikes = sorted([s for s in OPT_STRIKES if \"00_Call\" in s], reverse=True)\n",
        "# put_strikes = sorted([s for s in OPT_STRIKES if \"00_Put\" in s], reverse=False)\n",
        "# nrows = 6\n",
        "# ncols = 4\n",
        "# fig, axs = plt.subplots(nrows=nrows, ncols=len(call_strikes), figsize=(10*ncols, 6*nrows))\n",
        "# if len(call_strikes) == 1:\n",
        "#     axs = axs.reshape(len(axs),1)\n",
        "# for s in range(0, len(call_strikes)):\n",
        "#     r = 0\n",
        "#     style = {call_strikes[s]: \"red\", put_strikes[s]: \"green\", \"NIFTY\": \"--k\"}\n",
        "#     plot_x_diff(oi_opt_df, include_strikes=[call_strikes[s], put_strikes[s]], ax=axs[r, s], title=\"OI\", style=style)\n",
        "#     r = r + 1\n",
        "#     if history_api_data:\n",
        "#         plot_df(vol_opt_df.T[[call_strikes[s], put_strikes[s]]], ax=axs[r, s], title=\"VOL\", style=style)\n",
        "#     else:\n",
        "#         plot_x_diff(vol_opt_df, include_strikes=[call_strikes[s], put_strikes[s]], ax=axs[r, s], title=\"VOL\", style=style)\n",
        "#     r = r + 1\n",
        "#     plot_x_roc(price_opt_df, include_strikes=[call_strikes[s], put_strikes[s]], ax=axs[r, s], title=\"Premium\", style=style)\n",
        "#     r = r + 1\n",
        "#     plot_x_roc(iv_nr_df, include_strikes=[call_strikes[s], put_strikes[s]], ax=axs[r, s], title=\"IV by NR\", style=style)\n",
        "#     r = r + 1\n",
        "#     plot_x_roc(prem_decay_df, include_strikes=[call_strikes[s], put_strikes[s]], ax=axs[r, s], title=\"Premium Decay\", style=style)\n",
        "#     r = r + 1\n",
        "#     money_flow_df = None\n",
        "#     if history_api_data:\n",
        "#         money_flow_df = compute_money_flow_ohlcv([call_strikes[s], put_strikes[s]])\n",
        "#     else:\n",
        "#         money_flow_df = compute_money_flow_df([call_strikes[s], put_strikes[s]])\n",
        "#     plot_df(money_flow_df, ax=axs[r, s], title=\"Money Flow\", style=style)"
      ]
    },
    {
      "cell_type": "markdown",
      "metadata": {
        "id": "KEozUbqZ2JhN"
      },
      "source": [
        "##Call vs Call & Put vs Put"
      ]
    },
    {
      "cell_type": "code",
      "execution_count": null,
      "metadata": {
        "id": "s3n2E8fSnV70"
      },
      "outputs": [],
      "source": [
        "# money_flow_df = None\n",
        "# if history_api_data:\n",
        "#     money_flow_df = compute_money_flow_ohlcv([s for s in OPT_STRIKES if \"00_\" in s]).T\n",
        "# else:\n",
        "#     money_flow_df = compute_money_flow_df([s for s in OPT_STRIKES if \"00_\" in s]).T\n",
        "\n",
        "# nrows = 2\n",
        "# ncols = 4\n",
        "# fig, axs = plt.subplots(nrows=nrows, ncols=ncols, figsize=(10*ncols, 6*nrows))\n",
        "# c = 0\n",
        "# plot_x_roc(price_opt_df, include_strikes=[s for s in OPT_STRIKES if \"00_Call\" in s], ax=axs[0, c], title=\"Call Premium\", style=COLORS_STYLE)\n",
        "# plot_x_roc(price_opt_df, include_strikes=[s for s in OPT_STRIKES if \"00_Put\" in s], ax=axs[1, c], title=\"Put Premium\", style=COLORS_STYLE)\n",
        "# c = c + 1\n",
        "# plot_x_roc(iv_nr_df, include_strikes=[s for s in OPT_STRIKES if \"00_Call\" in s], ax=axs[0, c], title=\"Call IV\", style=COLORS_STYLE)\n",
        "# plot_x_roc(iv_nr_df, include_strikes=[s for s in OPT_STRIKES if \"00_Put\" in s], ax=axs[1, c], title=\"Put IV\", style=COLORS_STYLE)\n",
        "# c = c + 1\n",
        "# plot_x_roc(prem_decay_df, include_strikes=[s for s in OPT_STRIKES if \"00_Call\" in s], ax=axs[0, c], title=\"Call Premium Decay\", style=COLORS_STYLE)\n",
        "# plot_x_roc(prem_decay_df, include_strikes=[s for s in OPT_STRIKES if \"00_Put\" in s], ax=axs[1, c], title=\"Put Premium Decay\", style=COLORS_STYLE)\n",
        "# c = c + 1\n",
        "# plot_x_roc(money_flow_df, include_strikes=[s for s in OPT_STRIKES if \"00_Call\" in s], ax=axs[0, c], title=\"Call Moneyflow\", style=COLORS_STYLE)\n",
        "# plot_x_roc(money_flow_df, include_strikes=[s for s in OPT_STRIKES if \"00_Put\" in s], ax=axs[1, c], title=\"Put Moneyflow\", style=COLORS_STYLE)"
      ]
    },
    {
      "cell_type": "code",
      "execution_count": null,
      "metadata": {
        "id": "taK8ypBdMeIH"
      },
      "outputs": [],
      "source": [
        "# normalized_df = get_normalized_n_consolidate_call_n_put(price_opt_df)\n",
        "\n",
        "# style = {\"Call\": \"red\", \"Put\": \"green\", \"NIFTY\": \"--k\"}\n",
        "# fig, axs = plt.subplots(nrows=1, ncols=2, figsize=(16, 4*1))\n",
        "# plot_df(normalized_df[[\"Call\"]], ax=axs[0], title=\"Call Normalized Premium\", style=style)\n",
        "# plot_df(normalized_df[[\"Put\"]], ax=axs[1], title=\"Put Normalized Premium\", style=style)"
      ]
    },
    {
      "cell_type": "code",
      "execution_count": null,
      "metadata": {
        "id": "qYXeJuAP7lE0"
      },
      "outputs": [],
      "source": [
        "# fig, axs = plt.subplots(nrows=2, ncols=1, figsize=(16, 6*2))\n",
        "# plot_x_roc(price_opt_df, include_strikes=[s for s in OPT_STRIKES if \"00_Call\" in s], ax=axs[0], title=\"Call Premium\", style=COLORS_STYLE)\n",
        "# plot_x_roc(price_opt_df, include_strikes=[s for s in OPT_STRIKES if \"00_Put\" in s], ax=axs[1], title=\"Put Premium\", style=COLORS_STYLE)"
      ]
    },
    {
      "cell_type": "code",
      "execution_count": null,
      "metadata": {
        "id": "u2YfUrYJ7k6k"
      },
      "outputs": [],
      "source": [
        "# fig, axs = plt.subplots(nrows=2, ncols=1, figsize=(16, 6*2))\n",
        "# plot_x_roc(iv_nr_df, include_strikes=[s for s in OPT_STRIKES if \"00_Call\" in s], ax=axs[0], title=\"Call IV by NR\", style=COLORS_STYLE)\n",
        "# plot_x_roc(iv_nr_df, include_strikes=[s for s in OPT_STRIKES if \"00_Put\" in s], ax=axs[1], title=\"Put IV by NR\", style=COLORS_STYLE)"
      ]
    },
    {
      "cell_type": "code",
      "execution_count": null,
      "metadata": {
        "id": "18z1n33j7kya"
      },
      "outputs": [],
      "source": [
        "# fig, axs = plt.subplots(nrows=2, ncols=1, figsize=(16, 6*2))\n",
        "# plot_x_roc(prem_decay_df, include_strikes=[s for s in OPT_STRIKES if \"00_Call\" in s], ax=axs[0], title=\"Call Premium Decay\", style=COLORS_STYLE)\n",
        "# plot_x_roc(prem_decay_df, include_strikes=[s for s in OPT_STRIKES if \"00_Put\" in s], ax=axs[1], title=\"Put Premium Decay\", style=COLORS_STYLE)"
      ]
    },
    {
      "cell_type": "markdown",
      "metadata": {
        "id": "_2py78pr0O_S"
      },
      "source": [
        "# Misc Scripts"
      ]
    },
    {
      "cell_type": "markdown",
      "metadata": {
        "id": "abe4C3X402xp"
      },
      "source": [
        "\n",
        "\n",
        "```\n",
        "Reminder Scripts\n",
        "----------------\n",
        "\n",
        "MAC\n",
        "---\n",
        "while true; do osascript -e 'display alert \"15 min reminder\"'; ts=$(date +%s); remain_secs=$((900-$ts%900)); sleep $remain_secs; done;\n",
        "while true; do osascript -e 'display notification \"15 min reminder\" with title \"15 min reminder\"'; sleep 900; done;\n",
        "while true; do osascript -e 'display notification \"15 min reminder\" with title \"15 min reminder\"'; ts=$(date +%s); remain_secs=$((900-$ts%900)); sleep $remain_secs; done;\n",
        "\n",
        "Windows\n",
        "-------\n",
        "15-mins-reminder.bat\n",
        "--------------------\n",
        "@echo off\n",
        ":loop\n",
        "msg * \"15 mins reminder\"\n",
        "timeout /t 900\n",
        "goto loop\n",
        "---------------------\n",
        "@echo off\n",
        ":loop\n",
        "@set /a \"run_every_n_mins = 15\"\n",
        "msg * \"%run_every_n_mins% mins reminder\"\n",
        "@set /a \"n_secs = run_every_n_mins * 60\"\n",
        "@set /a \"mins = %time:~3,2%\"\n",
        "@set /a \"secs = %time:~6,2%\"\n",
        "@set /a \"ts = mins * 60 + secs\"\n",
        "@set /a \"remain_secs = n_secs - (ts %% n_secs)\"\n",
        "timeout /t %remain_secs%\n",
        "goto loop\n",
        "--------------------\n",
        "\n",
        "```\n",
        "\n"
      ]
    },
    {
      "cell_type": "markdown",
      "metadata": {
        "id": "AOlz4tOb1TqL"
      },
      "source": [
        "\n",
        "\n",
        "```\n",
        "Excel formula to filter current expiry 100 multiple strikes\n",
        "-----------------------------------------------------------\n",
        "=AND(A2=\"OPTIDX\", B2=\"NIFTY\", C2=DATE(2024,1,11), MOD(D2,100)=0)\n",
        "```\n",
        "\n"
      ]
    }
  ],
  "metadata": {
    "colab": {
      "collapsed_sections": [
        "tTDyaVr5onQe",
        "e4bd67fe",
        "BSYyTGVlX8q8",
        "SjF5fFsyX8rH",
        "24810564",
        "t7CpWEppMJpw",
        "cR1I9ejunlvt",
        "zBEOYT_jK9A9",
        "h1C9JshINSol",
        "rsvcnPyUXkN3",
        "AKCCQDkF1v5f",
        "KEozUbqZ2JhN",
        "_2py78pr0O_S"
      ],
      "provenance": [],
      "mount_file_id": "10tfQvFjZiR7mJZtjRCLsMuDr_xuhnC6U",
      "authorship_tag": "ABX9TyMkyE/XA0DKnKTiWQOS/C2F",
      "include_colab_link": true
    },
    "kernelspec": {
      "display_name": "Python 3",
      "name": "python3"
    },
    "language_info": {
      "name": "python"
    }
  },
  "nbformat": 4,
  "nbformat_minor": 0
}